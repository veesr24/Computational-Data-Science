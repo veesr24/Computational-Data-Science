{
 "cells": [
  {
   "cell_type": "markdown",
   "id": "fb8a902c",
   "metadata": {},
   "source": [
    "# GGR274 Lab 5: Data Transformations, Grouped Data, and Data Visualization\n",
    "\n",
    "## Logistics\n",
    "\n",
    "Like last week, our lab grade will be based on attendance and submission of a few small tasks to MarkUs during the lab session (or by 23:59 on Thursday).\n",
    "\n",
    "Complete the tasks in this Jupyter notebook and submit your completed file to [MarkUs](https://markus-ds.teach.cs.toronto.edu).\n",
    "Here are the instructions for submitting to MarkUs (same as last week):\n",
    "\n",
    "1. Download this file (`Lab_5.ipynb`) from JupyterHub. (See [our JupyterHub Guide](../../../guides/jupyterhub_guide.ipynb) for detailed instructions.)\n",
    "2. Submit this file to MarkUs under the **lab5** assignment. (See [our MarkUs Guide](../../../guides/markus_guide.ipynb) for detailed instructions.)\n",
    "\n",
    "Note: there's no autograding set up for this week's lab, but your TA will be checking that your submitted lab file is complete as part of your \"lab attendance\" grade."
   ]
  },
  {
   "cell_type": "markdown",
   "id": "eb7b6510",
   "metadata": {},
   "source": [
    "## Lab 5 Introduction"
   ]
  },
  {
   "cell_type": "markdown",
   "id": "b23a02d9",
   "metadata": {},
   "source": [
    "In this lab, you will work with  a data set called `time_use_prov`. This is a data set is derived from the Statistics Canada General Social Survey's (GSS) Time Use (TU) Survey Main File, as well as a data set containing information on aggregated provincial data. This week you will plot box plots, bar graphs, and use the logical operators from Week 4 material to develop subset data sets to visualize data on.\n",
    "\n",
    "As usual, these labs are meant to facilitate your understanding of the material from lectures in a low-stakes environment. Please feel free to refer to your lecture content, collaborate with your peers, and seek out help from your TAs."
   ]
  },
  {
   "cell_type": "markdown",
   "id": "59d3fe4c",
   "metadata": {},
   "source": [
    "## Task 1\n",
    "\n",
    "Read CSV file `'time_use_prov.csv'` into a pandas `DataFrame` named `prov_data`."
   ]
  },
  {
   "cell_type": "code",
   "execution_count": 15,
   "id": "a8822e1b",
   "metadata": {},
   "outputs": [
    {
     "data": {
      "text/html": [
       "<div>\n",
       "<style scoped>\n",
       "    .dataframe tbody tr th:only-of-type {\n",
       "        vertical-align: middle;\n",
       "    }\n",
       "\n",
       "    .dataframe tbody tr th {\n",
       "        vertical-align: top;\n",
       "    }\n",
       "\n",
       "    .dataframe thead th {\n",
       "        text-align: right;\n",
       "    }\n",
       "</style>\n",
       "<table border=\"1\" class=\"dataframe\">\n",
       "  <thead>\n",
       "    <tr style=\"text-align: right;\">\n",
       "      <th></th>\n",
       "      <th>Unnamed: 0</th>\n",
       "      <th>Participant ID</th>\n",
       "      <th>Urban/Rural</th>\n",
       "      <th>Age Group</th>\n",
       "      <th>Marital Status</th>\n",
       "      <th>sex</th>\n",
       "      <th>Kids under 14</th>\n",
       "      <th>Feeling Rushed</th>\n",
       "      <th>Sleep duration</th>\n",
       "      <th>Work duration</th>\n",
       "      <th>Prov_ab</th>\n",
       "      <th>Employment Rate</th>\n",
       "      <th>Pct house over 30</th>\n",
       "      <th>region</th>\n",
       "      <th>Income</th>\n",
       "    </tr>\n",
       "  </thead>\n",
       "  <tbody>\n",
       "    <tr>\n",
       "      <th>0</th>\n",
       "      <td>0</td>\n",
       "      <td>10000</td>\n",
       "      <td>1</td>\n",
       "      <td>5</td>\n",
       "      <td>5</td>\n",
       "      <td>1</td>\n",
       "      <td>0</td>\n",
       "      <td>1</td>\n",
       "      <td>510</td>\n",
       "      <td>0</td>\n",
       "      <td>MB</td>\n",
       "      <td>61.7</td>\n",
       "      <td>11.4</td>\n",
       "      <td>Prairies</td>\n",
       "      <td>68147.0</td>\n",
       "    </tr>\n",
       "    <tr>\n",
       "      <th>1</th>\n",
       "      <td>1</td>\n",
       "      <td>10009</td>\n",
       "      <td>1</td>\n",
       "      <td>6</td>\n",
       "      <td>3</td>\n",
       "      <td>1</td>\n",
       "      <td>0</td>\n",
       "      <td>6</td>\n",
       "      <td>540</td>\n",
       "      <td>0</td>\n",
       "      <td>MB</td>\n",
       "      <td>61.7</td>\n",
       "      <td>11.4</td>\n",
       "      <td>Prairies</td>\n",
       "      <td>68147.0</td>\n",
       "    </tr>\n",
       "    <tr>\n",
       "      <th>2</th>\n",
       "      <td>2</td>\n",
       "      <td>10016</td>\n",
       "      <td>2</td>\n",
       "      <td>7</td>\n",
       "      <td>1</td>\n",
       "      <td>1</td>\n",
       "      <td>0</td>\n",
       "      <td>6</td>\n",
       "      <td>660</td>\n",
       "      <td>0</td>\n",
       "      <td>MB</td>\n",
       "      <td>61.7</td>\n",
       "      <td>11.4</td>\n",
       "      <td>Prairies</td>\n",
       "      <td>68147.0</td>\n",
       "    </tr>\n",
       "    <tr>\n",
       "      <th>3</th>\n",
       "      <td>3</td>\n",
       "      <td>10023</td>\n",
       "      <td>1</td>\n",
       "      <td>6</td>\n",
       "      <td>1</td>\n",
       "      <td>2</td>\n",
       "      <td>0</td>\n",
       "      <td>3</td>\n",
       "      <td>330</td>\n",
       "      <td>0</td>\n",
       "      <td>MB</td>\n",
       "      <td>61.7</td>\n",
       "      <td>11.4</td>\n",
       "      <td>Prairies</td>\n",
       "      <td>68147.0</td>\n",
       "    </tr>\n",
       "    <tr>\n",
       "      <th>4</th>\n",
       "      <td>4</td>\n",
       "      <td>10047</td>\n",
       "      <td>2</td>\n",
       "      <td>7</td>\n",
       "      <td>1</td>\n",
       "      <td>1</td>\n",
       "      <td>0</td>\n",
       "      <td>3</td>\n",
       "      <td>510</td>\n",
       "      <td>0</td>\n",
       "      <td>MB</td>\n",
       "      <td>61.7</td>\n",
       "      <td>11.4</td>\n",
       "      <td>Prairies</td>\n",
       "      <td>68147.0</td>\n",
       "    </tr>\n",
       "  </tbody>\n",
       "</table>\n",
       "</div>"
      ],
      "text/plain": [
       "   Unnamed: 0  Participant ID  Urban/Rural  Age Group  Marital Status  sex  \\\n",
       "0           0           10000            1          5               5    1   \n",
       "1           1           10009            1          6               3    1   \n",
       "2           2           10016            2          7               1    1   \n",
       "3           3           10023            1          6               1    2   \n",
       "4           4           10047            2          7               1    1   \n",
       "\n",
       "   Kids under 14  Feeling Rushed  Sleep duration  Work duration Prov_ab  \\\n",
       "0              0               1             510              0      MB   \n",
       "1              0               6             540              0      MB   \n",
       "2              0               6             660              0      MB   \n",
       "3              0               3             330              0      MB   \n",
       "4              0               3             510              0      MB   \n",
       "\n",
       "   Employment Rate  Pct house over 30    region   Income  \n",
       "0             61.7               11.4  Prairies  68147.0  \n",
       "1             61.7               11.4  Prairies  68147.0  \n",
       "2             61.7               11.4  Prairies  68147.0  \n",
       "3             61.7               11.4  Prairies  68147.0  \n",
       "4             61.7               11.4  Prairies  68147.0  "
      ]
     },
     "execution_count": 15,
     "metadata": {},
     "output_type": "execute_result"
    }
   ],
   "source": [
    "import pandas as pd\n",
    "\n",
    "prov_data = pd.read_csv('time_use_prov.csv')\n",
    "\n",
    "prov_data.head()"
   ]
  },
  {
   "cell_type": "code",
   "execution_count": 16,
   "id": "2ecea367-325a-43b1-8c0d-fb95aac59327",
   "metadata": {},
   "outputs": [
    {
     "data": {
      "text/html": [
       "<div>\n",
       "<style scoped>\n",
       "    .dataframe tbody tr th:only-of-type {\n",
       "        vertical-align: middle;\n",
       "    }\n",
       "\n",
       "    .dataframe tbody tr th {\n",
       "        vertical-align: top;\n",
       "    }\n",
       "\n",
       "    .dataframe thead th {\n",
       "        text-align: right;\n",
       "    }\n",
       "</style>\n",
       "<table border=\"1\" class=\"dataframe\">\n",
       "  <thead>\n",
       "    <tr style=\"text-align: right;\">\n",
       "      <th></th>\n",
       "      <th>Unnamed: 0</th>\n",
       "      <th>Participant ID</th>\n",
       "      <th>Urban/Rural</th>\n",
       "      <th>Age Group</th>\n",
       "      <th>Marital Status</th>\n",
       "      <th>sex</th>\n",
       "      <th>Kids under 14</th>\n",
       "      <th>Feeling Rushed</th>\n",
       "      <th>Sleep duration</th>\n",
       "      <th>Work duration</th>\n",
       "      <th>Employment Rate</th>\n",
       "      <th>Pct house over 30</th>\n",
       "      <th>Income</th>\n",
       "    </tr>\n",
       "  </thead>\n",
       "  <tbody>\n",
       "    <tr>\n",
       "      <th>count</th>\n",
       "      <td>17390.000000</td>\n",
       "      <td>17390.000000</td>\n",
       "      <td>17390.000000</td>\n",
       "      <td>17390.000000</td>\n",
       "      <td>17390.000000</td>\n",
       "      <td>17390.000000</td>\n",
       "      <td>17390.000000</td>\n",
       "      <td>17390.000000</td>\n",
       "      <td>17390.000000</td>\n",
       "      <td>17390.000000</td>\n",
       "      <td>17390.000000</td>\n",
       "      <td>17390.000000</td>\n",
       "      <td>17390.000000</td>\n",
       "    </tr>\n",
       "    <tr>\n",
       "      <th>mean</th>\n",
       "      <td>8694.500000</td>\n",
       "      <td>18694.500000</td>\n",
       "      <td>1.264002</td>\n",
       "      <td>4.260035</td>\n",
       "      <td>2.822312</td>\n",
       "      <td>1.554974</td>\n",
       "      <td>0.347441</td>\n",
       "      <td>3.056067</td>\n",
       "      <td>522.393099</td>\n",
       "      <td>167.877228</td>\n",
       "      <td>59.299948</td>\n",
       "      <td>15.439856</td>\n",
       "      <td>69736.014836</td>\n",
       "    </tr>\n",
       "    <tr>\n",
       "      <th>std</th>\n",
       "      <td>5020.204926</td>\n",
       "      <td>5020.204926</td>\n",
       "      <td>0.504107</td>\n",
       "      <td>1.763916</td>\n",
       "      <td>2.084380</td>\n",
       "      <td>0.496983</td>\n",
       "      <td>0.755936</td>\n",
       "      <td>5.875343</td>\n",
       "      <td>133.063959</td>\n",
       "      <td>246.115440</td>\n",
       "      <td>3.489940</td>\n",
       "      <td>3.953390</td>\n",
       "      <td>9444.009443</td>\n",
       "    </tr>\n",
       "    <tr>\n",
       "      <th>min</th>\n",
       "      <td>0.000000</td>\n",
       "      <td>10000.000000</td>\n",
       "      <td>1.000000</td>\n",
       "      <td>1.000000</td>\n",
       "      <td>1.000000</td>\n",
       "      <td>1.000000</td>\n",
       "      <td>0.000000</td>\n",
       "      <td>1.000000</td>\n",
       "      <td>0.000000</td>\n",
       "      <td>0.000000</td>\n",
       "      <td>49.500000</td>\n",
       "      <td>10.300000</td>\n",
       "      <td>59347.000000</td>\n",
       "    </tr>\n",
       "    <tr>\n",
       "      <th>25%</th>\n",
       "      <td>4347.250000</td>\n",
       "      <td>14347.250000</td>\n",
       "      <td>1.000000</td>\n",
       "      <td>3.000000</td>\n",
       "      <td>1.000000</td>\n",
       "      <td>1.000000</td>\n",
       "      <td>0.000000</td>\n",
       "      <td>1.000000</td>\n",
       "      <td>450.000000</td>\n",
       "      <td>0.000000</td>\n",
       "      <td>59.500000</td>\n",
       "      <td>12.000000</td>\n",
       "      <td>59822.000000</td>\n",
       "    </tr>\n",
       "    <tr>\n",
       "      <th>50%</th>\n",
       "      <td>8694.500000</td>\n",
       "      <td>18694.500000</td>\n",
       "      <td>1.000000</td>\n",
       "      <td>4.000000</td>\n",
       "      <td>2.000000</td>\n",
       "      <td>2.000000</td>\n",
       "      <td>0.000000</td>\n",
       "      <td>2.000000</td>\n",
       "      <td>510.000000</td>\n",
       "      <td>0.000000</td>\n",
       "      <td>59.600000</td>\n",
       "      <td>12.900000</td>\n",
       "      <td>69995.000000</td>\n",
       "    </tr>\n",
       "    <tr>\n",
       "      <th>75%</th>\n",
       "      <td>13041.750000</td>\n",
       "      <td>23041.750000</td>\n",
       "      <td>1.000000</td>\n",
       "      <td>6.000000</td>\n",
       "      <td>5.000000</td>\n",
       "      <td>2.000000</td>\n",
       "      <td>0.000000</td>\n",
       "      <td>4.000000</td>\n",
       "      <td>585.000000</td>\n",
       "      <td>425.000000</td>\n",
       "      <td>59.900000</td>\n",
       "      <td>19.800000</td>\n",
       "      <td>74287.000000</td>\n",
       "    </tr>\n",
       "    <tr>\n",
       "      <th>max</th>\n",
       "      <td>17389.000000</td>\n",
       "      <td>27389.000000</td>\n",
       "      <td>3.000000</td>\n",
       "      <td>7.000000</td>\n",
       "      <td>6.000000</td>\n",
       "      <td>2.000000</td>\n",
       "      <td>3.000000</td>\n",
       "      <td>98.000000</td>\n",
       "      <td>1440.000000</td>\n",
       "      <td>1310.000000</td>\n",
       "      <td>65.400000</td>\n",
       "      <td>20.700000</td>\n",
       "      <td>93835.000000</td>\n",
       "    </tr>\n",
       "  </tbody>\n",
       "</table>\n",
       "</div>"
      ],
      "text/plain": [
       "         Unnamed: 0  Participant ID   Urban/Rural     Age Group  \\\n",
       "count  17390.000000    17390.000000  17390.000000  17390.000000   \n",
       "mean    8694.500000    18694.500000      1.264002      4.260035   \n",
       "std     5020.204926     5020.204926      0.504107      1.763916   \n",
       "min        0.000000    10000.000000      1.000000      1.000000   \n",
       "25%     4347.250000    14347.250000      1.000000      3.000000   \n",
       "50%     8694.500000    18694.500000      1.000000      4.000000   \n",
       "75%    13041.750000    23041.750000      1.000000      6.000000   \n",
       "max    17389.000000    27389.000000      3.000000      7.000000   \n",
       "\n",
       "       Marital Status           sex  Kids under 14  Feeling Rushed  \\\n",
       "count    17390.000000  17390.000000   17390.000000    17390.000000   \n",
       "mean         2.822312      1.554974       0.347441        3.056067   \n",
       "std          2.084380      0.496983       0.755936        5.875343   \n",
       "min          1.000000      1.000000       0.000000        1.000000   \n",
       "25%          1.000000      1.000000       0.000000        1.000000   \n",
       "50%          2.000000      2.000000       0.000000        2.000000   \n",
       "75%          5.000000      2.000000       0.000000        4.000000   \n",
       "max          6.000000      2.000000       3.000000       98.000000   \n",
       "\n",
       "       Sleep duration  Work duration  Employment Rate  Pct house over 30  \\\n",
       "count    17390.000000   17390.000000     17390.000000       17390.000000   \n",
       "mean       522.393099     167.877228        59.299948          15.439856   \n",
       "std        133.063959     246.115440         3.489940           3.953390   \n",
       "min          0.000000       0.000000        49.500000          10.300000   \n",
       "25%        450.000000       0.000000        59.500000          12.000000   \n",
       "50%        510.000000       0.000000        59.600000          12.900000   \n",
       "75%        585.000000     425.000000        59.900000          19.800000   \n",
       "max       1440.000000    1310.000000        65.400000          20.700000   \n",
       "\n",
       "             Income  \n",
       "count  17390.000000  \n",
       "mean   69736.014836  \n",
       "std     9444.009443  \n",
       "min    59347.000000  \n",
       "25%    59822.000000  \n",
       "50%    69995.000000  \n",
       "75%    74287.000000  \n",
       "max    93835.000000  "
      ]
     },
     "execution_count": 16,
     "metadata": {},
     "output_type": "execute_result"
    }
   ],
   "source": [
    "prov_data.describe()"
   ]
  },
  {
   "cell_type": "markdown",
   "id": "188aa9c5",
   "metadata": {},
   "source": [
    "## Task 2"
   ]
  },
  {
   "cell_type": "code",
   "execution_count": 17,
   "id": "9259bf84-19c0-42f5-aa86-9752a46df183",
   "metadata": {},
   "outputs": [
    {
     "name": "stdout",
     "output_type": "stream",
     "text": [
      "<class 'pandas.core.frame.DataFrame'>\n",
      "RangeIndex: 17390 entries, 0 to 17389\n",
      "Data columns (total 15 columns):\n",
      " #   Column             Non-Null Count  Dtype  \n",
      "---  ------             --------------  -----  \n",
      " 0   Unnamed: 0         17390 non-null  int64  \n",
      " 1   Participant ID     17390 non-null  int64  \n",
      " 2   Urban/Rural        17390 non-null  int64  \n",
      " 3   Age Group          17390 non-null  int64  \n",
      " 4   Marital Status     17390 non-null  int64  \n",
      " 5   sex                17390 non-null  int64  \n",
      " 6   Kids under 14      17390 non-null  int64  \n",
      " 7   Feeling Rushed     17390 non-null  int64  \n",
      " 8   Sleep duration     17390 non-null  int64  \n",
      " 9   Work duration      17390 non-null  int64  \n",
      " 10  Prov_ab            17390 non-null  object \n",
      " 11  Employment Rate    17390 non-null  float64\n",
      " 12  Pct house over 30  17390 non-null  float64\n",
      " 13  region             17390 non-null  object \n",
      " 14  Income             17390 non-null  float64\n",
      "dtypes: float64(3), int64(10), object(2)\n",
      "memory usage: 2.0+ MB\n"
     ]
    }
   ],
   "source": [
    "prov_data.info()"
   ]
  },
  {
   "cell_type": "markdown",
   "id": "1600e5b2",
   "metadata": {},
   "source": [
    "a) Create a new column in `prov_data` named `'age_bin'`.  The values of `'age_bin'` should be obtained from the `'age'` column in `prov_data` which has the values:\n",
    "\n",
    "```\n",
    "            Age group of respondent (groups of 10)\n",
    "\n",
    "           VALUE  LABEL\n",
    "               1  15 to 24 years\n",
    "               2  25 to 34 years\n",
    "               3  35 to 44 years\n",
    "               4  45 to 54 years\n",
    "               5  55 to 64 years\n",
    "               6  65 to 74 years\n",
    "               7  75 years and over\n",
    "              96  Valid skip\n",
    "              97  Don't know\n",
    "              98  Refusal\n",
    "              99  Not stated\n",
    "```\n",
    "\n",
    "`'age_bin'` should have the values `'youth'`, `'young'`, `'middle'`, `'senior'` defined as :\n",
    "\n",
    "- `'youth'`  : ages 15-24\n",
    "- `'young'`  : ages 25-44\n",
    "- `'middle'` : ages 45-64\n",
    "- `'senior'` : ages 65+"
   ]
  },
  {
   "cell_type": "code",
   "execution_count": 18,
   "id": "fd74e2c7",
   "metadata": {},
   "outputs": [
    {
     "data": {
      "text/plain": [
       "Age Group\n",
       "5    3741\n",
       "6    2958\n",
       "4    2789\n",
       "3    2597\n",
       "2    2127\n",
       "7    1875\n",
       "1    1303\n",
       "Name: count, dtype: int64"
      ]
     },
     "execution_count": 18,
     "metadata": {},
     "output_type": "execute_result"
    }
   ],
   "source": [
    "prov_data['Age Group'].value_counts()"
   ]
  },
  {
   "cell_type": "code",
   "execution_count": null,
   "id": "a2a3429d-72e2-4740-b687-a36d44afc9bc",
   "metadata": {},
   "outputs": [],
   "source": []
  },
  {
   "cell_type": "code",
   "execution_count": 42,
   "id": "037b430d-ccbc-4dbc-83ce-90751b4b8737",
   "metadata": {},
   "outputs": [],
   "source": [
    "age_bin = prov_data\n",
    "age_bin.loc[age_bin['Age Group'] == 1, 'age_bin'] = 'youth'   # 15-24 years\n",
    "age_bin.loc[age_bin['Age Group'].isin([2, 3]), 'age_bin'] = 'young'\n",
    "age_bin.loc[age_bin['Age Group'].isin([4, 5]), 'age_bin'] = 'middle'\n",
    "age_bin.loc[age_bin['Age Group'].isin([6, 7]), 'age_bin'] = 'senior'  # 65 years and over"
   ]
  },
  {
   "cell_type": "code",
   "execution_count": 43,
   "id": "e401ce07-03ac-4d88-9e12-83a59b247a82",
   "metadata": {},
   "outputs": [
    {
     "data": {
      "text/html": [
       "<div>\n",
       "<style scoped>\n",
       "    .dataframe tbody tr th:only-of-type {\n",
       "        vertical-align: middle;\n",
       "    }\n",
       "\n",
       "    .dataframe tbody tr th {\n",
       "        vertical-align: top;\n",
       "    }\n",
       "\n",
       "    .dataframe thead th {\n",
       "        text-align: right;\n",
       "    }\n",
       "</style>\n",
       "<table border=\"1\" class=\"dataframe\">\n",
       "  <thead>\n",
       "    <tr style=\"text-align: right;\">\n",
       "      <th></th>\n",
       "      <th>Unnamed: 0</th>\n",
       "      <th>Participant ID</th>\n",
       "      <th>Urban/Rural</th>\n",
       "      <th>Age Group</th>\n",
       "      <th>Marital Status</th>\n",
       "      <th>sex</th>\n",
       "      <th>Kids under 14</th>\n",
       "      <th>Feeling Rushed</th>\n",
       "      <th>Sleep duration</th>\n",
       "      <th>Work duration</th>\n",
       "      <th>Prov_ab</th>\n",
       "      <th>Employment Rate</th>\n",
       "      <th>Pct house over 30</th>\n",
       "      <th>region</th>\n",
       "      <th>Income</th>\n",
       "      <th>Age group label</th>\n",
       "      <th>age_bin</th>\n",
       "    </tr>\n",
       "  </thead>\n",
       "  <tbody>\n",
       "    <tr>\n",
       "      <th>0</th>\n",
       "      <td>0</td>\n",
       "      <td>10000</td>\n",
       "      <td>1</td>\n",
       "      <td>5</td>\n",
       "      <td>5</td>\n",
       "      <td>1</td>\n",
       "      <td>0</td>\n",
       "      <td>1</td>\n",
       "      <td>510</td>\n",
       "      <td>0</td>\n",
       "      <td>MB</td>\n",
       "      <td>61.7</td>\n",
       "      <td>11.4</td>\n",
       "      <td>Prairies</td>\n",
       "      <td>68147.0</td>\n",
       "      <td>senior</td>\n",
       "      <td>middle</td>\n",
       "    </tr>\n",
       "    <tr>\n",
       "      <th>1</th>\n",
       "      <td>1</td>\n",
       "      <td>10009</td>\n",
       "      <td>1</td>\n",
       "      <td>6</td>\n",
       "      <td>3</td>\n",
       "      <td>1</td>\n",
       "      <td>0</td>\n",
       "      <td>6</td>\n",
       "      <td>540</td>\n",
       "      <td>0</td>\n",
       "      <td>MB</td>\n",
       "      <td>61.7</td>\n",
       "      <td>11.4</td>\n",
       "      <td>Prairies</td>\n",
       "      <td>68147.0</td>\n",
       "      <td>senior</td>\n",
       "      <td>senior</td>\n",
       "    </tr>\n",
       "    <tr>\n",
       "      <th>2</th>\n",
       "      <td>2</td>\n",
       "      <td>10016</td>\n",
       "      <td>2</td>\n",
       "      <td>7</td>\n",
       "      <td>1</td>\n",
       "      <td>1</td>\n",
       "      <td>0</td>\n",
       "      <td>6</td>\n",
       "      <td>660</td>\n",
       "      <td>0</td>\n",
       "      <td>MB</td>\n",
       "      <td>61.7</td>\n",
       "      <td>11.4</td>\n",
       "      <td>Prairies</td>\n",
       "      <td>68147.0</td>\n",
       "      <td>senior</td>\n",
       "      <td>senior</td>\n",
       "    </tr>\n",
       "    <tr>\n",
       "      <th>3</th>\n",
       "      <td>3</td>\n",
       "      <td>10023</td>\n",
       "      <td>1</td>\n",
       "      <td>6</td>\n",
       "      <td>1</td>\n",
       "      <td>2</td>\n",
       "      <td>0</td>\n",
       "      <td>3</td>\n",
       "      <td>330</td>\n",
       "      <td>0</td>\n",
       "      <td>MB</td>\n",
       "      <td>61.7</td>\n",
       "      <td>11.4</td>\n",
       "      <td>Prairies</td>\n",
       "      <td>68147.0</td>\n",
       "      <td>senior</td>\n",
       "      <td>senior</td>\n",
       "    </tr>\n",
       "    <tr>\n",
       "      <th>4</th>\n",
       "      <td>4</td>\n",
       "      <td>10047</td>\n",
       "      <td>2</td>\n",
       "      <td>7</td>\n",
       "      <td>1</td>\n",
       "      <td>1</td>\n",
       "      <td>0</td>\n",
       "      <td>3</td>\n",
       "      <td>510</td>\n",
       "      <td>0</td>\n",
       "      <td>MB</td>\n",
       "      <td>61.7</td>\n",
       "      <td>11.4</td>\n",
       "      <td>Prairies</td>\n",
       "      <td>68147.0</td>\n",
       "      <td>senior</td>\n",
       "      <td>senior</td>\n",
       "    </tr>\n",
       "  </tbody>\n",
       "</table>\n",
       "</div>"
      ],
      "text/plain": [
       "   Unnamed: 0  Participant ID  Urban/Rural  Age Group  Marital Status  sex  \\\n",
       "0           0           10000            1          5               5    1   \n",
       "1           1           10009            1          6               3    1   \n",
       "2           2           10016            2          7               1    1   \n",
       "3           3           10023            1          6               1    2   \n",
       "4           4           10047            2          7               1    1   \n",
       "\n",
       "   Kids under 14  Feeling Rushed  Sleep duration  Work duration Prov_ab  \\\n",
       "0              0               1             510              0      MB   \n",
       "1              0               6             540              0      MB   \n",
       "2              0               6             660              0      MB   \n",
       "3              0               3             330              0      MB   \n",
       "4              0               3             510              0      MB   \n",
       "\n",
       "   Employment Rate  Pct house over 30    region   Income Age group label  \\\n",
       "0             61.7               11.4  Prairies  68147.0          senior   \n",
       "1             61.7               11.4  Prairies  68147.0          senior   \n",
       "2             61.7               11.4  Prairies  68147.0          senior   \n",
       "3             61.7               11.4  Prairies  68147.0          senior   \n",
       "4             61.7               11.4  Prairies  68147.0          senior   \n",
       "\n",
       "  age_bin  \n",
       "0  middle  \n",
       "1  senior  \n",
       "2  senior  \n",
       "3  senior  \n",
       "4  senior  "
      ]
     },
     "execution_count": 43,
     "metadata": {},
     "output_type": "execute_result"
    }
   ],
   "source": [
    "age_bin.head()"
   ]
  },
  {
   "cell_type": "markdown",
   "id": "aba81c81",
   "metadata": {},
   "source": [
    "b) Compute the distribution of `age_bin` as a count, and store this in `age_bin_count_dist`. Then compute `age_bin` as a proportion of the total population, and store this in `age_bin_prop_dist`."
   ]
  },
  {
   "cell_type": "code",
   "execution_count": 33,
   "id": "bedfefe4",
   "metadata": {},
   "outputs": [
    {
     "name": "stdout",
     "output_type": "stream",
     "text": [
      "Count distribution of age_bin:\n",
      "age_bin\n",
      "middle    6530\n",
      "senior    4833\n",
      "young     4724\n",
      "youth     1303\n",
      "Name: count, dtype: int64\n",
      "\n",
      "Proportion distribution of age_bin:\n",
      "age_bin\n",
      "middle    0.375503\n",
      "senior    0.277918\n",
      "young     0.271650\n",
      "youth     0.074928\n",
      "Name: proportion, dtype: float64\n"
     ]
    }
   ],
   "source": [
    "# Compute count distribution of 'age_bin'\n",
    "age_bin_count_dist = age_bin['age_bin'].value_counts()\n",
    "\n",
    "# Compute proportion distribution of 'age_bin'\n",
    "age_bin_prop_dist = age_bin['age_bin'].value_counts(normalize=True)\n",
    "\n",
    "# Display count distribution\n",
    "print(\"Count distribution of age_bin:\")\n",
    "print(age_bin_count_dist)\n",
    "\n",
    "# Display proportion distribution\n",
    "print(\"\\nProportion distribution of age_bin:\")\n",
    "print(age_bin_prop_dist)"
   ]
  },
  {
   "cell_type": "code",
   "execution_count": 34,
   "id": "5e86152c-8313-47c1-a3b9-9f1d3611fa5c",
   "metadata": {},
   "outputs": [
    {
     "name": "stdout",
     "output_type": "stream",
     "text": [
      "Sum of proportions: 1.0\n"
     ]
    }
   ],
   "source": [
    "print(\"Sum of proportions:\", age_bin_prop_dist.sum())"
   ]
  },
  {
   "cell_type": "code",
   "execution_count": 35,
   "id": "2438a87b-d3eb-41af-aa75-8af2ef66da33",
   "metadata": {},
   "outputs": [
    {
     "name": "stdout",
     "output_type": "stream",
     "text": [
      "Count distribution of age_bin:\n",
      "age_bin\n",
      "middle    6530\n",
      "senior    4833\n",
      "young     4724\n",
      "youth     1303\n",
      "Name: count, dtype: int64\n",
      "\n",
      "Proportion distribution of age_bin:\n",
      "age_bin\n",
      "middle    0.375503\n",
      "senior    0.277918\n",
      "young     0.271650\n",
      "youth     0.074928\n",
      "Name: count, dtype: float64\n"
     ]
    }
   ],
   "source": [
    "# To get the counts of each bin, you can use the value_counts method\n",
    "age_bin_count_dist = age_bin['age_bin'].value_counts()\n",
    "\n",
    "# To get the proportions of each bin, you can divide the counts by the length of the data\n",
    "age_bin_prop_dist = age_bin_count_dist / len(age_bin)\n",
    "\n",
    "# Display the count distribution\n",
    "print(\"Count distribution of age_bin:\")\n",
    "print(age_bin_count_dist)\n",
    "\n",
    "# Display the proportion distribution\n",
    "print(\"\\nProportion distribution of age_bin:\")\n",
    "print(age_bin_prop_dist)"
   ]
  },
  {
   "cell_type": "markdown",
   "id": "5a4bdd0e",
   "metadata": {},
   "source": [
    "c) Sort the values of `age_bin_prop_dist` in ascending order (smallest to largest) using the `sort_values` method.  The code is\n",
    "\n",
    "```python\n",
    "age_bin_prop_dist.sort_values(ascending = True, inplace = True)\n",
    "```\n",
    "\n",
    "The `inplace = True` parameter in `sort_values` modifies `age_bin_prop_dist`.  What do you predict would happen to `age_bin_prop_dist` if we used `age_bin_prop_dist.sort_values(ascending=True, inplace = False)` instead? "
   ]
  },
  {
   "cell_type": "code",
   "execution_count": 36,
   "id": "2404fcf6",
   "metadata": {},
   "outputs": [
    {
     "name": "stdout",
     "output_type": "stream",
     "text": [
      "None\n"
     ]
    }
   ],
   "source": [
    "sorted_age_bin_prop_dist = age_bin_prop_dist.sort_values(ascending=True, inplace=True)\n",
    "print(sorted_age_bin_prop_dist)"
   ]
  },
  {
   "cell_type": "code",
   "execution_count": 37,
   "id": "650f7682-5b85-4012-b15e-c53be34129bd",
   "metadata": {},
   "outputs": [
    {
     "name": "stdout",
     "output_type": "stream",
     "text": [
      "age_bin\n",
      "youth     0.074928\n",
      "young     0.271650\n",
      "senior    0.277918\n",
      "middle    0.375503\n",
      "Name: count, dtype: float64\n"
     ]
    }
   ],
   "source": [
    "sorted_age_bin_prop_dist = age_bin_prop_dist.sort_values(ascending=True, inplace=False)\n",
    "print(sorted_age_bin_prop_dist)"
   ]
  },
  {
   "cell_type": "code",
   "execution_count": 38,
   "id": "cdd0ce80-5fdd-4933-9146-7712ab499ac2",
   "metadata": {},
   "outputs": [
    {
     "name": "stdout",
     "output_type": "stream",
     "text": [
      "age_bin\n",
      "youth     0.074928\n",
      "young     0.271650\n",
      "senior    0.277918\n",
      "middle    0.375503\n",
      "Name: count, dtype: float64\n"
     ]
    }
   ],
   "source": [
    "age_bin_prop_dist.sort_values(ascending=True, inplace=True)\n",
    "print(age_bin_prop_dist)"
   ]
  },
  {
   "cell_type": "code",
   "execution_count": 39,
   "id": "0e8a2653-3dfc-4449-99ed-7fce602cea92",
   "metadata": {},
   "outputs": [
    {
     "name": "stdout",
     "output_type": "stream",
     "text": [
      "age_bin\n",
      "youth     0.074928\n",
      "young     0.271650\n",
      "senior    0.277918\n",
      "middle    0.375503\n",
      "Name: count, dtype: float64\n"
     ]
    }
   ],
   "source": [
    "age_bin_prop_dist.sort_values(ascending=True, inplace=False)\n",
    "print(age_bin_prop_dist)"
   ]
  },
  {
   "cell_type": "markdown",
   "id": "12ea67d5",
   "metadata": {},
   "source": [
    "c) Create a bar plot of `age_bin_prop_dist`. \n",
    "\n",
    "_Feel free to explore different aesthetic options by changing paramters for the plotting function. (See the documentation [here](https://pandas.pydata.org/docs/reference/api/pandas.DataFrame.plot.bar.html).)_"
   ]
  },
  {
   "cell_type": "code",
   "execution_count": 40,
   "id": "c48a475c",
   "metadata": {},
   "outputs": [
    {
     "data": {
      "image/png": "[encoded data removed]",
      "text/plain": [
       "<Figure size 640x480 with 1 Axes>"
      ]
     },
     "metadata": {},
     "output_type": "display_data"
    }
   ],
   "source": [
    "import matplotlib.pyplot as plt\n",
    "\n",
    "# Plot the bar plot\n",
    "age_bin_prop_dist.plot(kind='bar')\n",
    "\n",
    "# Add title and labels\n",
    "plt.title('Proportion Distribution of age_bins')\n",
    "plt.xlabel('age_bins')\n",
    "plt.ylabel('Proportion')\n",
    "\n",
    "# Show the plot\n",
    "plt.show()"
   ]
  },
  {
   "cell_type": "markdown",
   "id": "a1a81ca6",
   "metadata": {},
   "source": [
    "## Task 3\n",
    "\n",
    "a) Create a boxplot of `Sleep duration` by `age_bin`.  Store this plot in `sleep_by_age_boxplots`.  Use `figsize = (8, 8)` in the `pandas.DataFrame.boxplot` function. \n",
    "\n",
    "b) Set the label on the y-axis (vertical axis) to `Sleep duration` by using the `.set_ylabel()` method, as follows:\n",
    "\n",
    "```python\n",
    "sleep_by_age_boxplots.set_ylabel('Sleep duration')\n",
    "```\n",
    "\n",
    "_Feel free to customize the plot further to your liking with the help of the [documention](https://pandas.pydata.org/docs/reference/api/pandas.DataFrame.boxplot.html)._"
   ]
  },
  {
   "cell_type": "code",
   "execution_count": 41,
   "id": "b855ae66",
   "metadata": {},
   "outputs": [
    {
     "data": {
      "image/png": "[encoded data removed]",
      "text/plain": [
       "<Figure size 800x800 with 1 Axes>"
      ]
     },
     "metadata": {},
     "output_type": "display_data"
    }
   ],
   "source": [
    "# Create a boxplot of Sleep duration by age_bin\n",
    "sleep_by_age_boxplots = prov_data.boxplot(column = 'Sleep duration', by = 'age_bin', figsize = (8, 8))\n",
    "\n",
    "# Set the label on the y-axis\n",
    "sleep_by_age_boxplots.set_ylabel('Sleep duration')\n",
    "\n",
    "# Show the plot\n",
    "plt.show()"
   ]
  },
  {
   "cell_type": "code",
   "execution_count": null,
   "id": "6aaf9ce5",
   "metadata": {},
   "outputs": [],
   "source": []
  },
  {
   "cell_type": "code",
   "execution_count": null,
   "id": "5862855d",
   "metadata": {},
   "outputs": [],
   "source": []
  },
  {
   "cell_type": "code",
   "execution_count": null,
   "id": "d97d4609",
   "metadata": {},
   "outputs": [],
   "source": []
  }
 ],
 "metadata": {
  "kernelspec": {
   "display_name": "Python 3 (ipykernel)",
   "language": "python",
   "name": "python3"
  },
  "language_info": {
   "codemirror_mode": {
    "name": "ipython",
    "version": 3
   },
   "file_extension": ".py",
   "mimetype": "text/x-python",
   "name": "python",
   "nbconvert_exporter": "python",
   "pygments_lexer": "ipython3",
   "version": "3.11.6"
  },
  "vscode": {
   "interpreter": {
    "hash": "8b8edaa195e148f815789564e9a10f57d8b792ac9e1a5daafce5fbae42bebd0e"
   }
  }
 },
 "nbformat": 4,
 "nbformat_minor": 5
}
