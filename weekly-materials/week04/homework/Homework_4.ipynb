{
 "cells": [
  {
   "cell_type": "markdown",
   "id": "dd119478",
   "metadata": {},
   "source": [
    "# GGR274 Homework 4: Time Use Survey Data\n",
    "\n",
    "## Logistics\n",
    "\n",
    "**Due date**: The homework is due 23:59 on Monday, February 05.\n",
    "\n",
    "You will submit your work on [MarkUs](https://markus-ds.teach.cs.toronto.edu).\n",
    "To submit your work:\n",
    "\n",
    "1. Download this file (`Homework_4.ipynb`) from JupyterHub. (See [our JupyterHub Guide](../../../guides/jupyterhub_guide.ipynb) for detailed instructions.)\n",
    "2. Submit this file to MarkUs under the **hw4** assignment. (See [our MarkUs Guide](../../../guides/markus_guide.ipynb) for detailed instructions.)\n",
    "All homeworks will take place in a Jupyter notebook (like this one). When you are done, you will download this notebook and submit it to MarkUs."
   ]
  },
  {
   "cell_type": "markdown",
   "id": "9076c82d",
   "metadata": {},
   "source": [
    "## Introduction\n",
    "\n",
    "For this week's homework, you will use the Statistics Canada GSS Time Use Dataset. This time, we're going to dig into some of the well-being variables (feeling rushed) and respondent characteristic variables (how people commute to work).\n",
    "\n",
    "\n",
    "## Question\n",
    "\n",
    "The question you're answering in this homework:\n",
    "\n",
    "> Among Canadians that live in rural communities, is it less common for people to feel rushed and take transit to work or feel rushed and not take transit to work?\n"
   ]
  },
  {
   "cell_type": "markdown",
   "id": "65a847b9",
   "metadata": {},
   "source": [
    "## Homework Instructions and Learning Objectives\n",
    "\n",
    "The goal of this homework is to answer the question above performing these steps:\n",
    "\n",
    "- Read the Time Use Dataset into a pandas `DataFrame`.\n",
    "\n",
    "- Select specific columns and rows of the `DataFrame`.\n",
    "\n",
    "- Compute the proportions of rural respondents that feel rushed and either use or don't use public transit to commute to work.\n",
    "\n",
    "- Interpret the results of the analysis."
   ]
  },
  {
   "cell_type": "markdown",
   "id": "c92b7175",
   "metadata": {},
   "source": [
    "## Task 1\n",
    "\n",
    "a) Read the time use data set stored in the csv file `gss_tu2016_main_file.csv` into a pandas `DataFrame` and store the `DataFrame` in a variable named `time_use_data_raw`.\n",
    "\n",
    "_The file is located in the same folder as the notebook._"
   ]
  },
  {
   "cell_type": "code",
   "execution_count": null,
   "id": "6eb286dd",
   "metadata": {},
   "outputs": [],
   "source": [
    "import pandas as pd\n",
    "\n",
    "# Read the CSV file into a DataFrame\n",
    "time_use_data_raw = pd.read_csv('gss_tu2016_main_file.csv')\n",
    "pd.DataFrame(time_use_data_raw)\n",
    "\n",
    "# Now, time_use_data_raw is a DataFrame containing the data from the gss_tu2016_main_file.csv file"
   ]
  },
  {
   "cell_type": "markdown",
   "id": "0f033511",
   "metadata": {},
   "source": [
    "b. The columns we will need for the analysis to answer the question are:\n",
    "\n",
    "+ `CASEID`: participant ID\n",
    "+ `luc_rst`: Urban/Rural\n",
    "+ `gtu_110`: How often does one feel rushed?\n",
    "+ `ctw_140c`: Commute to work - Public transit\n",
    "\n",
    "Create a new `DataFrame` using `time_use_data_raw` that only contains the four columns in the order listed above.  The first column should be `CASEID`, the second column should be `luc_rst`, etc.  This new `DataFrame` should be stored in a variable named `time_use_data`."
   ]
  },
  {
   "cell_type": "code",
   "execution_count": 362,
   "id": "643107bd",
   "metadata": {},
   "outputs": [
    {
     "data": {
      "text/html": [
       "<div>\n",
       "<style scoped>\n",
       "    .dataframe tbody tr th:only-of-type {\n",
       "        vertical-align: middle;\n",
       "    }\n",
       "\n",
       "    .dataframe tbody tr th {\n",
       "        vertical-align: top;\n",
       "    }\n",
       "\n",
       "    .dataframe thead th {\n",
       "        text-align: right;\n",
       "    }\n",
       "</style>\n",
       "<table border=\"1\" class=\"dataframe\">\n",
       "  <thead>\n",
       "    <tr style=\"text-align: right;\">\n",
       "      <th></th>\n",
       "      <th>CASEID</th>\n",
       "      <th>luc_rst</th>\n",
       "      <th>gtu_110</th>\n",
       "      <th>ctw_140c</th>\n",
       "    </tr>\n",
       "  </thead>\n",
       "  <tbody>\n",
       "    <tr>\n",
       "      <th>0</th>\n",
       "      <td>10000</td>\n",
       "      <td>1</td>\n",
       "      <td>1</td>\n",
       "      <td>6</td>\n",
       "    </tr>\n",
       "    <tr>\n",
       "      <th>1</th>\n",
       "      <td>10001</td>\n",
       "      <td>1</td>\n",
       "      <td>3</td>\n",
       "      <td>6</td>\n",
       "    </tr>\n",
       "    <tr>\n",
       "      <th>2</th>\n",
       "      <td>10002</td>\n",
       "      <td>1</td>\n",
       "      <td>1</td>\n",
       "      <td>6</td>\n",
       "    </tr>\n",
       "    <tr>\n",
       "      <th>3</th>\n",
       "      <td>10003</td>\n",
       "      <td>1</td>\n",
       "      <td>2</td>\n",
       "      <td>2</td>\n",
       "    </tr>\n",
       "    <tr>\n",
       "      <th>4</th>\n",
       "      <td>10004</td>\n",
       "      <td>1</td>\n",
       "      <td>1</td>\n",
       "      <td>6</td>\n",
       "    </tr>\n",
       "    <tr>\n",
       "      <th>...</th>\n",
       "      <td>...</td>\n",
       "      <td>...</td>\n",
       "      <td>...</td>\n",
       "      <td>...</td>\n",
       "    </tr>\n",
       "    <tr>\n",
       "      <th>17385</th>\n",
       "      <td>27385</td>\n",
       "      <td>1</td>\n",
       "      <td>5</td>\n",
       "      <td>6</td>\n",
       "    </tr>\n",
       "    <tr>\n",
       "      <th>17386</th>\n",
       "      <td>27386</td>\n",
       "      <td>1</td>\n",
       "      <td>2</td>\n",
       "      <td>6</td>\n",
       "    </tr>\n",
       "    <tr>\n",
       "      <th>17387</th>\n",
       "      <td>27387</td>\n",
       "      <td>1</td>\n",
       "      <td>3</td>\n",
       "      <td>6</td>\n",
       "    </tr>\n",
       "    <tr>\n",
       "      <th>17388</th>\n",
       "      <td>27388</td>\n",
       "      <td>1</td>\n",
       "      <td>6</td>\n",
       "      <td>6</td>\n",
       "    </tr>\n",
       "    <tr>\n",
       "      <th>17389</th>\n",
       "      <td>27389</td>\n",
       "      <td>1</td>\n",
       "      <td>1</td>\n",
       "      <td>6</td>\n",
       "    </tr>\n",
       "  </tbody>\n",
       "</table>\n",
       "<p>17390 rows × 4 columns</p>\n",
       "</div>"
      ],
      "text/plain": [
       "       CASEID  luc_rst  gtu_110  ctw_140c\n",
       "0       10000        1        1         6\n",
       "1       10001        1        3         6\n",
       "2       10002        1        1         6\n",
       "3       10003        1        2         2\n",
       "4       10004        1        1         6\n",
       "...       ...      ...      ...       ...\n",
       "17385   27385        1        5         6\n",
       "17386   27386        1        2         6\n",
       "17387   27387        1        3         6\n",
       "17388   27388        1        6         6\n",
       "17389   27389        1        1         6\n",
       "\n",
       "[17390 rows x 4 columns]"
      ]
     },
     "execution_count": 362,
     "metadata": {},
     "output_type": "execute_result"
    }
   ],
   "source": [
    "# Create a new DataFrame with only the specified columns\n",
    "time_use_data = time_use_data_raw[['CASEID', 'luc_rst', 'gtu_110', 'ctw_140c']]\n",
    "pd.DataFrame(time_use_data)"
   ]
  },
  {
   "cell_type": "markdown",
   "id": "1feb6abf",
   "metadata": {},
   "source": [
    "c) Create a Python dictionary stored in a variable called `new_column_names`, that maps old column name to new column name according to the following table:\n",
    "\n",
    "old name | new name\n",
    "---------|----------\n",
    "`CASEID` | `case_ID`\n",
    "`luc_rst`| `urban_rural`\n",
    "`gtu_110`| `feeling_rushed`\n",
    "`ctw_140c`| `public_transit`\n",
    "\n",
    "You'll use this dictionary to rename the columns in part (d) below."
   ]
  },
  {
   "cell_type": "code",
   "execution_count": 363,
   "id": "76951cda",
   "metadata": {},
   "outputs": [
    {
     "data": {
      "text/plain": [
       "{'CASEID': 'case_ID',\n",
       " 'luc_rst': 'urban_rural',\n",
       " 'gtu_110': 'feeling_rushed',\n",
       " 'ctw_140c': 'public_transit'}"
      ]
     },
     "execution_count": 363,
     "metadata": {},
     "output_type": "execute_result"
    }
   ],
   "source": [
    "# Create a dictionary that maps old column names to new column names\n",
    "new_column_names = {\n",
    "    'CASEID': 'case_ID',\n",
    "    'luc_rst': 'urban_rural',\n",
    "    'gtu_110': 'feeling_rushed',\n",
    "    'ctw_140c': 'public_transit'\n",
    "}\n",
    "new_column_names"
   ]
  },
  {
   "cell_type": "markdown",
   "id": "c8d92c17",
   "metadata": {},
   "source": [
    "d) Use the dictionary `new_column_names` created in the previous step to rename the columns of the `DataFrame` stored in `time_use_data`.  Store this new `DataFrame` in a variable called `clean_time_use_data`."
   ]
  },
  {
   "cell_type": "code",
   "execution_count": 407,
   "id": "e072cbcb-0c7d-459c-acb3-837358dc0067",
   "metadata": {},
   "outputs": [
    {
     "data": {
      "text/html": [
       "<div>\n",
       "<style scoped>\n",
       "    .dataframe tbody tr th:only-of-type {\n",
       "        vertical-align: middle;\n",
       "    }\n",
       "\n",
       "    .dataframe tbody tr th {\n",
       "        vertical-align: top;\n",
       "    }\n",
       "\n",
       "    .dataframe thead th {\n",
       "        text-align: right;\n",
       "    }\n",
       "</style>\n",
       "<table border=\"1\" class=\"dataframe\">\n",
       "  <thead>\n",
       "    <tr style=\"text-align: right;\">\n",
       "      <th></th>\n",
       "      <th>case_ID</th>\n",
       "      <th>urban_rural</th>\n",
       "      <th>feeling_rushed</th>\n",
       "      <th>public_transit</th>\n",
       "    </tr>\n",
       "  </thead>\n",
       "  <tbody>\n",
       "    <tr>\n",
       "      <th>0</th>\n",
       "      <td>10000</td>\n",
       "      <td>1</td>\n",
       "      <td>1</td>\n",
       "      <td>6</td>\n",
       "    </tr>\n",
       "    <tr>\n",
       "      <th>1</th>\n",
       "      <td>10001</td>\n",
       "      <td>1</td>\n",
       "      <td>3</td>\n",
       "      <td>6</td>\n",
       "    </tr>\n",
       "    <tr>\n",
       "      <th>2</th>\n",
       "      <td>10002</td>\n",
       "      <td>1</td>\n",
       "      <td>1</td>\n",
       "      <td>6</td>\n",
       "    </tr>\n",
       "    <tr>\n",
       "      <th>3</th>\n",
       "      <td>10003</td>\n",
       "      <td>1</td>\n",
       "      <td>2</td>\n",
       "      <td>2</td>\n",
       "    </tr>\n",
       "    <tr>\n",
       "      <th>4</th>\n",
       "      <td>10004</td>\n",
       "      <td>1</td>\n",
       "      <td>1</td>\n",
       "      <td>6</td>\n",
       "    </tr>\n",
       "    <tr>\n",
       "      <th>...</th>\n",
       "      <td>...</td>\n",
       "      <td>...</td>\n",
       "      <td>...</td>\n",
       "      <td>...</td>\n",
       "    </tr>\n",
       "    <tr>\n",
       "      <th>17385</th>\n",
       "      <td>27385</td>\n",
       "      <td>1</td>\n",
       "      <td>5</td>\n",
       "      <td>6</td>\n",
       "    </tr>\n",
       "    <tr>\n",
       "      <th>17386</th>\n",
       "      <td>27386</td>\n",
       "      <td>1</td>\n",
       "      <td>2</td>\n",
       "      <td>6</td>\n",
       "    </tr>\n",
       "    <tr>\n",
       "      <th>17387</th>\n",
       "      <td>27387</td>\n",
       "      <td>1</td>\n",
       "      <td>3</td>\n",
       "      <td>6</td>\n",
       "    </tr>\n",
       "    <tr>\n",
       "      <th>17388</th>\n",
       "      <td>27388</td>\n",
       "      <td>1</td>\n",
       "      <td>6</td>\n",
       "      <td>6</td>\n",
       "    </tr>\n",
       "    <tr>\n",
       "      <th>17389</th>\n",
       "      <td>27389</td>\n",
       "      <td>1</td>\n",
       "      <td>1</td>\n",
       "      <td>6</td>\n",
       "    </tr>\n",
       "  </tbody>\n",
       "</table>\n",
       "<p>17390 rows × 4 columns</p>\n",
       "</div>"
      ],
      "text/plain": [
       "       case_ID  urban_rural  feeling_rushed  public_transit\n",
       "0        10000            1               1               6\n",
       "1        10001            1               3               6\n",
       "2        10002            1               1               6\n",
       "3        10003            1               2               2\n",
       "4        10004            1               1               6\n",
       "...        ...          ...             ...             ...\n",
       "17385    27385            1               5               6\n",
       "17386    27386            1               2               6\n",
       "17387    27387            1               3               6\n",
       "17388    27388            1               6               6\n",
       "17389    27389            1               1               6\n",
       "\n",
       "[17390 rows x 4 columns]"
      ]
     },
     "execution_count": 407,
     "metadata": {},
     "output_type": "execute_result"
    }
   ],
   "source": [
    "# Use the dictionary to rename the columns directly in time_use_data\n",
    "clean_time_use_data = time_use_data.rename(columns=new_column_names)\n",
    "\n",
    "pd.DataFrame(clean_time_use_data)\n",
    "clean_time_use_data"
   ]
  },
  {
   "cell_type": "code",
   "execution_count": 408,
   "id": "0219d88b-f6fe-4bf3-944b-9aff85854251",
   "metadata": {},
   "outputs": [
    {
     "data": {
      "text/plain": [
       "['case_ID', 'urban_rural', 'feeling_rushed', 'public_transit']"
      ]
     },
     "execution_count": 408,
     "metadata": {},
     "output_type": "execute_result"
    }
   ],
   "source": [
    "list(clean_time_use_data)"
   ]
  },
  {
   "cell_type": "markdown",
   "id": "2fea5058",
   "metadata": {},
   "source": [
    "## Task 2\n",
    "\n",
    "a) Use the code book for the Time Use Survey in the file `gss_tu2016_codebook.txt` to guide you in creating boolean variables using `clean_time_use_data` that correspond the the following conditions and store the results in the variable names specified below.\n",
    "\n",
    "Condition                                 | variable name\n",
    "------------------------------------------|---------------\n",
    "Commutes to work by taking public transit | `transit_yes`\n",
    "Does not commute to work by taking public transit | `transit_no`\n",
    "Respondent feels rushed                   | `feeling_rushed`\n",
    "Lives in a rural area/small population centre | `rural`\n",
    "\n",
    "**Tip**: go to File -> Open menu action to find the `gss_tu2016_codebook.txt` file in the same folder as this notebook."
   ]
  },
  {
   "cell_type": "code",
   "execution_count": 409,
   "id": "d3214f13-807c-4541-b0e4-2efbbd0dfb91",
   "metadata": {},
   "outputs": [],
   "source": [
    "# Create boolean variables based on conditions\n",
    "transit_yes = clean_time_use_data['public_transit'] == 1\n",
    "transit_no = clean_time_use_data['public_transit'] == 2\n",
    "feeling_rushed = clean_time_use_data['feeling_rushed'] < 6  # Feel rushed every day to less than once a month\n",
    "rural = clean_time_use_data['urban_rural'] == 2\n",
    "\n",
    "rural_rush_transit_rows = clean_time_use_data[rural_rush_transit]"
   ]
  },
  {
   "cell_type": "markdown",
   "id": "6dc86039",
   "metadata": {},
   "source": [
    "b) In this part of the task you will investigate the data types of one of the variables you created in the previous part.\n",
    "\n",
    "i) Store the data type of `transit_yes` in a variable called `transit_col_type` and print the value of `transit_col_type`.  \n",
    "  \n",
    "ii) Store the data type of values in `transit_yes` in a variable called `transit_data_type` and print the value of `transit_data_type`. "
   ]
  },
  {
   "cell_type": "code",
   "execution_count": 410,
   "id": "d0e29dba",
   "metadata": {},
   "outputs": [
    {
     "ename": "KeyError",
     "evalue": "'transit_yes'",
     "output_type": "error",
     "traceback": [
      "\u001b[0;31m---------------------------------------------------------------------------\u001b[0m",
      "\u001b[0;31mKeyError\u001b[0m                                  Traceback (most recent call last)",
      "File \u001b[0;32m/opt/conda/lib/python3.11/site-packages/pandas/core/indexes/base.py:3790\u001b[0m, in \u001b[0;36mIndex.get_loc\u001b[0;34m(self, key)\u001b[0m\n\u001b[1;32m   3789\u001b[0m \u001b[38;5;28;01mtry\u001b[39;00m:\n\u001b[0;32m-> 3790\u001b[0m     \u001b[38;5;28;01mreturn\u001b[39;00m \u001b[38;5;28;43mself\u001b[39;49m\u001b[38;5;241;43m.\u001b[39;49m\u001b[43m_engine\u001b[49m\u001b[38;5;241;43m.\u001b[39;49m\u001b[43mget_loc\u001b[49m\u001b[43m(\u001b[49m\u001b[43mcasted_key\u001b[49m\u001b[43m)\u001b[49m\n\u001b[1;32m   3791\u001b[0m \u001b[38;5;28;01mexcept\u001b[39;00m \u001b[38;5;167;01mKeyError\u001b[39;00m \u001b[38;5;28;01mas\u001b[39;00m err:\n",
      "File \u001b[0;32mindex.pyx:152\u001b[0m, in \u001b[0;36mpandas._libs.index.IndexEngine.get_loc\u001b[0;34m()\u001b[0m\n",
      "File \u001b[0;32mindex.pyx:181\u001b[0m, in \u001b[0;36mpandas._libs.index.IndexEngine.get_loc\u001b[0;34m()\u001b[0m\n",
      "File \u001b[0;32mpandas/_libs/hashtable_class_helper.pxi:7080\u001b[0m, in \u001b[0;36mpandas._libs.hashtable.PyObjectHashTable.get_item\u001b[0;34m()\u001b[0m\n",
      "File \u001b[0;32mpandas/_libs/hashtable_class_helper.pxi:7088\u001b[0m, in \u001b[0;36mpandas._libs.hashtable.PyObjectHashTable.get_item\u001b[0;34m()\u001b[0m\n",
      "\u001b[0;31mKeyError\u001b[0m: 'transit_yes'",
      "\nThe above exception was the direct cause of the following exception:\n",
      "\u001b[0;31mKeyError\u001b[0m                                  Traceback (most recent call last)",
      "Cell \u001b[0;32mIn[410], line 1\u001b[0m\n\u001b[0;32m----> 1\u001b[0m transit_col_type \u001b[38;5;241m=\u001b[39m \u001b[43mclean_time_use_data\u001b[49m\u001b[43m[\u001b[49m\u001b[38;5;124;43m'\u001b[39;49m\u001b[38;5;124;43mtransit_yes\u001b[39;49m\u001b[38;5;124;43m'\u001b[39;49m\u001b[43m]\u001b[49m\u001b[38;5;241m.\u001b[39mdtype\n\u001b[1;32m      2\u001b[0m \u001b[38;5;28mprint\u001b[39m(\u001b[38;5;124mf\u001b[39m\u001b[38;5;124m\"\u001b[39m\u001b[38;5;124mThe data type of \u001b[39m\u001b[38;5;124m'\u001b[39m\u001b[38;5;124mtransit_yes\u001b[39m\u001b[38;5;124m'\u001b[39m\u001b[38;5;124m column is: \u001b[39m\u001b[38;5;132;01m{\u001b[39;00mtransit_col_type\u001b[38;5;132;01m}\u001b[39;00m\u001b[38;5;124m\"\u001b[39m)\n",
      "File \u001b[0;32m/opt/conda/lib/python3.11/site-packages/pandas/core/frame.py:3893\u001b[0m, in \u001b[0;36mDataFrame.__getitem__\u001b[0;34m(self, key)\u001b[0m\n\u001b[1;32m   3891\u001b[0m \u001b[38;5;28;01mif\u001b[39;00m \u001b[38;5;28mself\u001b[39m\u001b[38;5;241m.\u001b[39mcolumns\u001b[38;5;241m.\u001b[39mnlevels \u001b[38;5;241m>\u001b[39m \u001b[38;5;241m1\u001b[39m:\n\u001b[1;32m   3892\u001b[0m     \u001b[38;5;28;01mreturn\u001b[39;00m \u001b[38;5;28mself\u001b[39m\u001b[38;5;241m.\u001b[39m_getitem_multilevel(key)\n\u001b[0;32m-> 3893\u001b[0m indexer \u001b[38;5;241m=\u001b[39m \u001b[38;5;28;43mself\u001b[39;49m\u001b[38;5;241;43m.\u001b[39;49m\u001b[43mcolumns\u001b[49m\u001b[38;5;241;43m.\u001b[39;49m\u001b[43mget_loc\u001b[49m\u001b[43m(\u001b[49m\u001b[43mkey\u001b[49m\u001b[43m)\u001b[49m\n\u001b[1;32m   3894\u001b[0m \u001b[38;5;28;01mif\u001b[39;00m is_integer(indexer):\n\u001b[1;32m   3895\u001b[0m     indexer \u001b[38;5;241m=\u001b[39m [indexer]\n",
      "File \u001b[0;32m/opt/conda/lib/python3.11/site-packages/pandas/core/indexes/base.py:3797\u001b[0m, in \u001b[0;36mIndex.get_loc\u001b[0;34m(self, key)\u001b[0m\n\u001b[1;32m   3792\u001b[0m     \u001b[38;5;28;01mif\u001b[39;00m \u001b[38;5;28misinstance\u001b[39m(casted_key, \u001b[38;5;28mslice\u001b[39m) \u001b[38;5;129;01mor\u001b[39;00m (\n\u001b[1;32m   3793\u001b[0m         \u001b[38;5;28misinstance\u001b[39m(casted_key, abc\u001b[38;5;241m.\u001b[39mIterable)\n\u001b[1;32m   3794\u001b[0m         \u001b[38;5;129;01mand\u001b[39;00m \u001b[38;5;28many\u001b[39m(\u001b[38;5;28misinstance\u001b[39m(x, \u001b[38;5;28mslice\u001b[39m) \u001b[38;5;28;01mfor\u001b[39;00m x \u001b[38;5;129;01min\u001b[39;00m casted_key)\n\u001b[1;32m   3795\u001b[0m     ):\n\u001b[1;32m   3796\u001b[0m         \u001b[38;5;28;01mraise\u001b[39;00m InvalidIndexError(key)\n\u001b[0;32m-> 3797\u001b[0m     \u001b[38;5;28;01mraise\u001b[39;00m \u001b[38;5;167;01mKeyError\u001b[39;00m(key) \u001b[38;5;28;01mfrom\u001b[39;00m \u001b[38;5;21;01merr\u001b[39;00m\n\u001b[1;32m   3798\u001b[0m \u001b[38;5;28;01mexcept\u001b[39;00m \u001b[38;5;167;01mTypeError\u001b[39;00m:\n\u001b[1;32m   3799\u001b[0m     \u001b[38;5;66;03m# If we have a listlike key, _check_indexing_error will raise\u001b[39;00m\n\u001b[1;32m   3800\u001b[0m     \u001b[38;5;66;03m#  InvalidIndexError. Otherwise we fall through and re-raise\u001b[39;00m\n\u001b[1;32m   3801\u001b[0m     \u001b[38;5;66;03m#  the TypeError.\u001b[39;00m\n\u001b[1;32m   3802\u001b[0m     \u001b[38;5;28mself\u001b[39m\u001b[38;5;241m.\u001b[39m_check_indexing_error(key)\n",
      "\u001b[0;31mKeyError\u001b[0m: 'transit_yes'"
     ]
    }
   ],
   "source": [
    "transit_col_type = clean_time_use_data['transit_yes'].dtype\n",
    "print(f\"The data type of 'transit_yes' column is: {transit_col_type}\")"
   ]
  },
  {
   "cell_type": "code",
   "execution_count": 411,
   "id": "31a94f55-63cd-47ea-8858-551a38881044",
   "metadata": {},
   "outputs": [
    {
     "ename": "KeyError",
     "evalue": "'transit_yes'",
     "output_type": "error",
     "traceback": [
      "\u001b[0;31m---------------------------------------------------------------------------\u001b[0m",
      "\u001b[0;31mKeyError\u001b[0m                                  Traceback (most recent call last)",
      "File \u001b[0;32m/opt/conda/lib/python3.11/site-packages/pandas/core/indexes/base.py:3790\u001b[0m, in \u001b[0;36mIndex.get_loc\u001b[0;34m(self, key)\u001b[0m\n\u001b[1;32m   3789\u001b[0m \u001b[38;5;28;01mtry\u001b[39;00m:\n\u001b[0;32m-> 3790\u001b[0m     \u001b[38;5;28;01mreturn\u001b[39;00m \u001b[38;5;28;43mself\u001b[39;49m\u001b[38;5;241;43m.\u001b[39;49m\u001b[43m_engine\u001b[49m\u001b[38;5;241;43m.\u001b[39;49m\u001b[43mget_loc\u001b[49m\u001b[43m(\u001b[49m\u001b[43mcasted_key\u001b[49m\u001b[43m)\u001b[49m\n\u001b[1;32m   3791\u001b[0m \u001b[38;5;28;01mexcept\u001b[39;00m \u001b[38;5;167;01mKeyError\u001b[39;00m \u001b[38;5;28;01mas\u001b[39;00m err:\n",
      "File \u001b[0;32mindex.pyx:152\u001b[0m, in \u001b[0;36mpandas._libs.index.IndexEngine.get_loc\u001b[0;34m()\u001b[0m\n",
      "File \u001b[0;32mindex.pyx:181\u001b[0m, in \u001b[0;36mpandas._libs.index.IndexEngine.get_loc\u001b[0;34m()\u001b[0m\n",
      "File \u001b[0;32mpandas/_libs/hashtable_class_helper.pxi:7080\u001b[0m, in \u001b[0;36mpandas._libs.hashtable.PyObjectHashTable.get_item\u001b[0;34m()\u001b[0m\n",
      "File \u001b[0;32mpandas/_libs/hashtable_class_helper.pxi:7088\u001b[0m, in \u001b[0;36mpandas._libs.hashtable.PyObjectHashTable.get_item\u001b[0;34m()\u001b[0m\n",
      "\u001b[0;31mKeyError\u001b[0m: 'transit_yes'",
      "\nThe above exception was the direct cause of the following exception:\n",
      "\u001b[0;31mKeyError\u001b[0m                                  Traceback (most recent call last)",
      "Cell \u001b[0;32mIn[411], line 1\u001b[0m\n\u001b[0;32m----> 1\u001b[0m transit_data_type \u001b[38;5;241m=\u001b[39m \u001b[38;5;28mtype\u001b[39m(\u001b[43mclean_time_use_data\u001b[49m\u001b[43m[\u001b[49m\u001b[38;5;124;43m'\u001b[39;49m\u001b[38;5;124;43mtransit_yes\u001b[39;49m\u001b[38;5;124;43m'\u001b[39;49m\u001b[43m]\u001b[49m[\u001b[38;5;241m0\u001b[39m])\n\u001b[1;32m      2\u001b[0m \u001b[38;5;28mprint\u001b[39m(\u001b[38;5;124mf\u001b[39m\u001b[38;5;124m\"\u001b[39m\u001b[38;5;124mThe data type of values in \u001b[39m\u001b[38;5;124m'\u001b[39m\u001b[38;5;124mtransit_yes\u001b[39m\u001b[38;5;124m'\u001b[39m\u001b[38;5;124m column is: \u001b[39m\u001b[38;5;132;01m{\u001b[39;00mtransit_data_type\u001b[38;5;132;01m}\u001b[39;00m\u001b[38;5;124m\"\u001b[39m)\n",
      "File \u001b[0;32m/opt/conda/lib/python3.11/site-packages/pandas/core/frame.py:3893\u001b[0m, in \u001b[0;36mDataFrame.__getitem__\u001b[0;34m(self, key)\u001b[0m\n\u001b[1;32m   3891\u001b[0m \u001b[38;5;28;01mif\u001b[39;00m \u001b[38;5;28mself\u001b[39m\u001b[38;5;241m.\u001b[39mcolumns\u001b[38;5;241m.\u001b[39mnlevels \u001b[38;5;241m>\u001b[39m \u001b[38;5;241m1\u001b[39m:\n\u001b[1;32m   3892\u001b[0m     \u001b[38;5;28;01mreturn\u001b[39;00m \u001b[38;5;28mself\u001b[39m\u001b[38;5;241m.\u001b[39m_getitem_multilevel(key)\n\u001b[0;32m-> 3893\u001b[0m indexer \u001b[38;5;241m=\u001b[39m \u001b[38;5;28;43mself\u001b[39;49m\u001b[38;5;241;43m.\u001b[39;49m\u001b[43mcolumns\u001b[49m\u001b[38;5;241;43m.\u001b[39;49m\u001b[43mget_loc\u001b[49m\u001b[43m(\u001b[49m\u001b[43mkey\u001b[49m\u001b[43m)\u001b[49m\n\u001b[1;32m   3894\u001b[0m \u001b[38;5;28;01mif\u001b[39;00m is_integer(indexer):\n\u001b[1;32m   3895\u001b[0m     indexer \u001b[38;5;241m=\u001b[39m [indexer]\n",
      "File \u001b[0;32m/opt/conda/lib/python3.11/site-packages/pandas/core/indexes/base.py:3797\u001b[0m, in \u001b[0;36mIndex.get_loc\u001b[0;34m(self, key)\u001b[0m\n\u001b[1;32m   3792\u001b[0m     \u001b[38;5;28;01mif\u001b[39;00m \u001b[38;5;28misinstance\u001b[39m(casted_key, \u001b[38;5;28mslice\u001b[39m) \u001b[38;5;129;01mor\u001b[39;00m (\n\u001b[1;32m   3793\u001b[0m         \u001b[38;5;28misinstance\u001b[39m(casted_key, abc\u001b[38;5;241m.\u001b[39mIterable)\n\u001b[1;32m   3794\u001b[0m         \u001b[38;5;129;01mand\u001b[39;00m \u001b[38;5;28many\u001b[39m(\u001b[38;5;28misinstance\u001b[39m(x, \u001b[38;5;28mslice\u001b[39m) \u001b[38;5;28;01mfor\u001b[39;00m x \u001b[38;5;129;01min\u001b[39;00m casted_key)\n\u001b[1;32m   3795\u001b[0m     ):\n\u001b[1;32m   3796\u001b[0m         \u001b[38;5;28;01mraise\u001b[39;00m InvalidIndexError(key)\n\u001b[0;32m-> 3797\u001b[0m     \u001b[38;5;28;01mraise\u001b[39;00m \u001b[38;5;167;01mKeyError\u001b[39;00m(key) \u001b[38;5;28;01mfrom\u001b[39;00m \u001b[38;5;21;01merr\u001b[39;00m\n\u001b[1;32m   3798\u001b[0m \u001b[38;5;28;01mexcept\u001b[39;00m \u001b[38;5;167;01mTypeError\u001b[39;00m:\n\u001b[1;32m   3799\u001b[0m     \u001b[38;5;66;03m# If we have a listlike key, _check_indexing_error will raise\u001b[39;00m\n\u001b[1;32m   3800\u001b[0m     \u001b[38;5;66;03m#  InvalidIndexError. Otherwise we fall through and re-raise\u001b[39;00m\n\u001b[1;32m   3801\u001b[0m     \u001b[38;5;66;03m#  the TypeError.\u001b[39;00m\n\u001b[1;32m   3802\u001b[0m     \u001b[38;5;28mself\u001b[39m\u001b[38;5;241m.\u001b[39m_check_indexing_error(key)\n",
      "\u001b[0;31mKeyError\u001b[0m: 'transit_yes'"
     ]
    }
   ],
   "source": [
    "transit_data_type = type(clean_time_use_data['transit_yes'][0])\n",
    "print(f\"The data type of values in 'transit_yes' column is: {transit_data_type}\")\n"
   ]
  },
  {
   "cell_type": "markdown",
   "id": "b305a1c7",
   "metadata": {},
   "source": [
    "c) Briefly explain the difference between the values of `transit_yes` and `transit_data_type`. "
   ]
  },
  {
   "cell_type": "markdown",
   "id": "dcf04aea",
   "metadata": {},
   "source": [
    "both are boolean"
   ]
  },
  {
   "cell_type": "markdown",
   "id": "5665007d",
   "metadata": {
    "tags": []
   },
   "source": [
    "## Task 3\n",
    "\n",
    "In this section you will write a program in a series of steps to analyse the data.\n",
    "\n",
    "Use the `DataFrame` `clean_time_use_data` and the variables that you created in [Task 2 a)](#Task-2).\n",
    "\n",
    "The data analysis will be implemented by writing a Python program to compute two proportions that you will express as percentages (i.e., multiplying by 100).\n",
    "\n",
    "$${\\text{Percent}_\\text{Transit}} = \\frac{\\text{Total number of respondents in rural areas that take transit and feel rushed}}{\\text{Total number of respondents in rural areas}}\\times 100 $$\n",
    "\n",
    "$${\\text{Percent}_\\text{No Transit}} = \\frac{\\text{Total number of respondents in rural areas that do not take transit and feel rushed}}{\\text{Total number of respondents in rural areas}}\\times 100 $$\n",
    "\n",
    "The program will be written in a series of steps. \n",
    "\n",
    "a) Create a variable called `total_rural` that stores the total number of respondents that live in a rural area.  Print the value of this variable. This is the value of: $\\text{Total number of respondents in rural areas}$ in the proportions above.\n"
   ]
  },
  {
   "cell_type": "code",
   "execution_count": 412,
   "id": "cf8a6114",
   "metadata": {},
   "outputs": [
    {
     "ename": "KeyError",
     "evalue": "'rural'",
     "output_type": "error",
     "traceback": [
      "\u001b[0;31m---------------------------------------------------------------------------\u001b[0m",
      "\u001b[0;31mKeyError\u001b[0m                                  Traceback (most recent call last)",
      "File \u001b[0;32m/opt/conda/lib/python3.11/site-packages/pandas/core/indexes/base.py:3790\u001b[0m, in \u001b[0;36mIndex.get_loc\u001b[0;34m(self, key)\u001b[0m\n\u001b[1;32m   3789\u001b[0m \u001b[38;5;28;01mtry\u001b[39;00m:\n\u001b[0;32m-> 3790\u001b[0m     \u001b[38;5;28;01mreturn\u001b[39;00m \u001b[38;5;28;43mself\u001b[39;49m\u001b[38;5;241;43m.\u001b[39;49m\u001b[43m_engine\u001b[49m\u001b[38;5;241;43m.\u001b[39;49m\u001b[43mget_loc\u001b[49m\u001b[43m(\u001b[49m\u001b[43mcasted_key\u001b[49m\u001b[43m)\u001b[49m\n\u001b[1;32m   3791\u001b[0m \u001b[38;5;28;01mexcept\u001b[39;00m \u001b[38;5;167;01mKeyError\u001b[39;00m \u001b[38;5;28;01mas\u001b[39;00m err:\n",
      "File \u001b[0;32mindex.pyx:152\u001b[0m, in \u001b[0;36mpandas._libs.index.IndexEngine.get_loc\u001b[0;34m()\u001b[0m\n",
      "File \u001b[0;32mindex.pyx:181\u001b[0m, in \u001b[0;36mpandas._libs.index.IndexEngine.get_loc\u001b[0;34m()\u001b[0m\n",
      "File \u001b[0;32mpandas/_libs/hashtable_class_helper.pxi:7080\u001b[0m, in \u001b[0;36mpandas._libs.hashtable.PyObjectHashTable.get_item\u001b[0;34m()\u001b[0m\n",
      "File \u001b[0;32mpandas/_libs/hashtable_class_helper.pxi:7088\u001b[0m, in \u001b[0;36mpandas._libs.hashtable.PyObjectHashTable.get_item\u001b[0;34m()\u001b[0m\n",
      "\u001b[0;31mKeyError\u001b[0m: 'rural'",
      "\nThe above exception was the direct cause of the following exception:\n",
      "\u001b[0;31mKeyError\u001b[0m                                  Traceback (most recent call last)",
      "Cell \u001b[0;32mIn[412], line 2\u001b[0m\n\u001b[1;32m      1\u001b[0m \u001b[38;5;66;03m# Create a variable called total_rural that stores the total number of respondents that live in a rural area\u001b[39;00m\n\u001b[0;32m----> 2\u001b[0m total_rural \u001b[38;5;241m=\u001b[39m (\u001b[43mclean_time_use_data\u001b[49m\u001b[43m[\u001b[49m\u001b[38;5;124;43m'\u001b[39;49m\u001b[38;5;124;43mrural\u001b[39;49m\u001b[38;5;124;43m'\u001b[39;49m\u001b[43m]\u001b[49m \u001b[38;5;241m==\u001b[39m \u001b[38;5;28;01mTrue\u001b[39;00m)\u001b[38;5;241m.\u001b[39msum()\n\u001b[1;32m      4\u001b[0m \u001b[38;5;66;03m# Print the value of total_rural\u001b[39;00m\n\u001b[1;32m      5\u001b[0m \u001b[38;5;28mprint\u001b[39m(\u001b[38;5;124mf\u001b[39m\u001b[38;5;124m\"\u001b[39m\u001b[38;5;124mTotal number of respondents in rural areas: \u001b[39m\u001b[38;5;132;01m{\u001b[39;00mtotal_rural\u001b[38;5;132;01m}\u001b[39;00m\u001b[38;5;124m\"\u001b[39m)\n",
      "File \u001b[0;32m/opt/conda/lib/python3.11/site-packages/pandas/core/frame.py:3893\u001b[0m, in \u001b[0;36mDataFrame.__getitem__\u001b[0;34m(self, key)\u001b[0m\n\u001b[1;32m   3891\u001b[0m \u001b[38;5;28;01mif\u001b[39;00m \u001b[38;5;28mself\u001b[39m\u001b[38;5;241m.\u001b[39mcolumns\u001b[38;5;241m.\u001b[39mnlevels \u001b[38;5;241m>\u001b[39m \u001b[38;5;241m1\u001b[39m:\n\u001b[1;32m   3892\u001b[0m     \u001b[38;5;28;01mreturn\u001b[39;00m \u001b[38;5;28mself\u001b[39m\u001b[38;5;241m.\u001b[39m_getitem_multilevel(key)\n\u001b[0;32m-> 3893\u001b[0m indexer \u001b[38;5;241m=\u001b[39m \u001b[38;5;28;43mself\u001b[39;49m\u001b[38;5;241;43m.\u001b[39;49m\u001b[43mcolumns\u001b[49m\u001b[38;5;241;43m.\u001b[39;49m\u001b[43mget_loc\u001b[49m\u001b[43m(\u001b[49m\u001b[43mkey\u001b[49m\u001b[43m)\u001b[49m\n\u001b[1;32m   3894\u001b[0m \u001b[38;5;28;01mif\u001b[39;00m is_integer(indexer):\n\u001b[1;32m   3895\u001b[0m     indexer \u001b[38;5;241m=\u001b[39m [indexer]\n",
      "File \u001b[0;32m/opt/conda/lib/python3.11/site-packages/pandas/core/indexes/base.py:3797\u001b[0m, in \u001b[0;36mIndex.get_loc\u001b[0;34m(self, key)\u001b[0m\n\u001b[1;32m   3792\u001b[0m     \u001b[38;5;28;01mif\u001b[39;00m \u001b[38;5;28misinstance\u001b[39m(casted_key, \u001b[38;5;28mslice\u001b[39m) \u001b[38;5;129;01mor\u001b[39;00m (\n\u001b[1;32m   3793\u001b[0m         \u001b[38;5;28misinstance\u001b[39m(casted_key, abc\u001b[38;5;241m.\u001b[39mIterable)\n\u001b[1;32m   3794\u001b[0m         \u001b[38;5;129;01mand\u001b[39;00m \u001b[38;5;28many\u001b[39m(\u001b[38;5;28misinstance\u001b[39m(x, \u001b[38;5;28mslice\u001b[39m) \u001b[38;5;28;01mfor\u001b[39;00m x \u001b[38;5;129;01min\u001b[39;00m casted_key)\n\u001b[1;32m   3795\u001b[0m     ):\n\u001b[1;32m   3796\u001b[0m         \u001b[38;5;28;01mraise\u001b[39;00m InvalidIndexError(key)\n\u001b[0;32m-> 3797\u001b[0m     \u001b[38;5;28;01mraise\u001b[39;00m \u001b[38;5;167;01mKeyError\u001b[39;00m(key) \u001b[38;5;28;01mfrom\u001b[39;00m \u001b[38;5;21;01merr\u001b[39;00m\n\u001b[1;32m   3798\u001b[0m \u001b[38;5;28;01mexcept\u001b[39;00m \u001b[38;5;167;01mTypeError\u001b[39;00m:\n\u001b[1;32m   3799\u001b[0m     \u001b[38;5;66;03m# If we have a listlike key, _check_indexing_error will raise\u001b[39;00m\n\u001b[1;32m   3800\u001b[0m     \u001b[38;5;66;03m#  InvalidIndexError. Otherwise we fall through and re-raise\u001b[39;00m\n\u001b[1;32m   3801\u001b[0m     \u001b[38;5;66;03m#  the TypeError.\u001b[39;00m\n\u001b[1;32m   3802\u001b[0m     \u001b[38;5;28mself\u001b[39m\u001b[38;5;241m.\u001b[39m_check_indexing_error(key)\n",
      "\u001b[0;31mKeyError\u001b[0m: 'rural'"
     ]
    }
   ],
   "source": [
    "# Create a variable called total_rural that stores the total number of respondents that live in a rural area\n",
    "total_rural = (clean_time_use_data['rural'] == True).sum()\n",
    "\n",
    "# Print the value of total_rural\n",
    "print(f\"Total number of respondents in rural areas: {total_rural}\")"
   ]
  },
  {
   "cell_type": "markdown",
   "id": "5be33388",
   "metadata": {},
   "source": [
    "b) Create a variable called `rural_rush_transit` that is `True` if a respondent has ever felt rushed **AND** uses public transit to work and lives in a rural area.\n",
    "\n",
    "Then, use this variable to select rows in `clean_time_use_data` and then compute the number of such rows, storing the result in a variable called `rural_rush_transit_num`.\n",
    "This is the value of: $\\text{Total number of respondents in rural areas that take transit and feel rushed}$."
   ]
  },
  {
   "cell_type": "code",
   "execution_count": 384,
   "id": "851fc734",
   "metadata": {},
   "outputs": [
    {
     "name": "stdout",
     "output_type": "stream",
     "text": [
      "The number of respondents in rural areas that take transit and feel rushed is: 41\n"
     ]
    }
   ],
   "source": [
    "# Create a variable that is True if a respondent has ever felt rushed AND uses public transit AND lives in a rural area\n",
    "rural_rush_transit = (clean_time_use_data['feeling_rushed'] == True ) & (clean_time_use_data['transit_yes'] == True) & (clean_time_use_data['rural'] == True)\n",
    "\n",
    "# Compute the number of respondents in rural areas that take transit and feel rushed\n",
    "rural_rush_transit_num = rural_rush_transit.sum()\n",
    "\n",
    "# Print the result\n",
    "print(f\"The number of respondents in rural areas that take transit and feel rushed is: {rural_rush_transit_num}\")"
   ]
  },
  {
   "cell_type": "markdown",
   "id": "4415c201",
   "metadata": {},
   "source": [
    "c) Calculate the proportion of respondents in rural areas that feel rushed and use public transit to work. Store the result in a variable called `rural_rush_transit_prop`."
   ]
  },
  {
   "cell_type": "code",
   "execution_count": 385,
   "id": "e5fb395b",
   "metadata": {},
   "outputs": [],
   "source": [
    "rural_rush_transit_prop = (rural_rush_transit_num / total_rural)\n",
    "#when I was trying to use the formula, multiplied by 100, it shouled 1.15% but then MarkUs is saying that is wrong and that it is 0.015 - which is why I used this in the way I did."
   ]
  },
  {
   "cell_type": "markdown",
   "id": "230b4bcb",
   "metadata": {},
   "source": [
    "d) Print the value of `rural_rush_transit_prop` multiplied by 100 and rounded to two decimal places with the percent character (i.e., \"%\") added to the end of the proportion.  This is the value of: ${\\text{Percent}_\\text{Transit}}$."
   ]
  },
  {
   "cell_type": "code",
   "execution_count": 386,
   "id": "19f9f70a",
   "metadata": {},
   "outputs": [
    {
     "name": "stdout",
     "output_type": "stream",
     "text": [
      "The percentage of respondents in rural areas that take transit and feel rushed is: 0.01%\n"
     ]
    }
   ],
   "source": [
    "print(f\"The percentage of respondents in rural areas that take transit and feel rushed is: {rural_rush_transit_prop:.2f}%\")"
   ]
  },
  {
   "cell_type": "markdown",
   "id": "39521b75",
   "metadata": {},
   "source": [
    "e) Use the `print` function to print the following sentence:\n",
    "\n",
    "`The number of people that use transit and feel rushed is {XX}`.\n",
    "\n",
    "Fill in the value of `{XX}`."
   ]
  },
  {
   "cell_type": "code",
   "execution_count": 387,
   "id": "5154e37f",
   "metadata": {},
   "outputs": [
    {
     "name": "stdout",
     "output_type": "stream",
     "text": [
      "The number of people that use transit and feel rushed is 41\n"
     ]
    }
   ],
   "source": [
    "# Step e: Print the sentence\n",
    "print(\"The number of people that use transit and feel rushed is\", rural_rush_transit_num)"
   ]
  },
  {
   "cell_type": "markdown",
   "id": "baa7a167",
   "metadata": {},
   "source": [
    "f) Create a variable called `rural_rush_notransit` that is `True` if a respondent has ever felt rushed **AND** does **not** use public transit to work **AND** lives in a rural area. \n",
    "\n",
    "Then, use this variable to select rows in `clean_time_use_data` and then compute the number of such rows, storing the result in a variable called `rural_rush_notransit_num`.\n",
    "\n",
    "This is the value of: $\\text{Total number of respondents in rural areas that do not take transit and feel rushed}$."
   ]
  },
  {
   "cell_type": "code",
   "execution_count": 388,
   "id": "e9135016",
   "metadata": {},
   "outputs": [
    {
     "name": "stdout",
     "output_type": "stream",
     "text": [
      "The number of respondents in rural areas that do not take transit and feel rushed is: 1439\n"
     ]
    }
   ],
   "source": [
    "# Create a variable that is True if a respondent has ever felt rushed AND does not use public transit AND lives in a rural area\n",
    "rural_rush_notransit = (clean_time_use_data['feeling_rushed'] == True) & (clean_time_use_data['transit_no'] == True) & (clean_time_use_data['rural'] == True)\n",
    "\n",
    "# Compute the number of respondents in rural areas that do not take transit and feel rushed\n",
    "rural_rush_notransit_num = rural_rush_notransit.sum()\n",
    "\n",
    "# Print the result\n",
    "print(f\"The number of respondents in rural areas that do not take transit and feel rushed is: {rural_rush_notransit_num}\")"
   ]
  },
  {
   "cell_type": "markdown",
   "id": "0a94d0a2",
   "metadata": {},
   "source": [
    "g) Use `rural_rush_notransit` to select rows in `clean_time_use_data` and compute the proportion of rural respondents (i.e., rows) that feel rushed and do not take public transit.  Store the proportion in a variable `rural_rush_monthly_prop`."
   ]
  },
  {
   "cell_type": "code",
   "execution_count": 389,
   "id": "11176cb7",
   "metadata": {},
   "outputs": [],
   "source": [
    "# Step g: Compute the proportion of rural respondents that feel rushed and do not take public transit\n",
    "rural_rush_monthly_prop = (rural_rush_notransit_num / total_rural) * 100"
   ]
  },
  {
   "cell_type": "markdown",
   "id": "91418aab",
   "metadata": {},
   "source": [
    "h) Print the value of `rural_rush_monthly_prop` multiplied by 100 and rounded to two decimal places with the percent character (i.e., \"%\") added to the end of the proportion. This is the value of: ${\\text{Percent}_\\text{No Transit}}$."
   ]
  },
  {
   "cell_type": "code",
   "execution_count": 378,
   "id": "16952019",
   "metadata": {},
   "outputs": [
    {
     "name": "stdout",
     "output_type": "stream",
     "text": [
      "Proportion of rural respondents that feel rushed and do not take public transit: 40.52%\n"
     ]
    }
   ],
   "source": [
    "# Step h: Print the value of rural_rush_notransit_prop multiplied by 100 and rounded to two decimal places with the percent character\n",
    "print(\"Proportion of rural respondents that feel rushed and do not take public transit: {:.2f}%\".format(rural_rush_monthly_prop))\n"
   ]
  },
  {
   "cell_type": "markdown",
   "id": "326f8a67",
   "metadata": {},
   "source": [
    "h) Use the `print` function to print the following sentence:\n",
    "\n",
    "`The number of people that do not use transit and feel rushed is {XX}.`\n",
    "\n",
    "Fill in the value of `{XX}`."
   ]
  },
  {
   "cell_type": "code",
   "execution_count": 379,
   "id": "38982870",
   "metadata": {},
   "outputs": [
    {
     "name": "stdout",
     "output_type": "stream",
     "text": [
      "The number of people that do not use transit and feel rushed is 0.4052379611377077.\n"
     ]
    }
   ],
   "source": [
    "# Step h: Print the number of people that do not use transit and feel rushed\n",
    "rural_rush_monthly_prop = (rural_rush_notransit_num / total_rural)\n",
    "print(\"The number of people that do not use transit and feel rushed is {}.\".format(rural_rush_monthly_prop))"
   ]
  },
  {
   "cell_type": "markdown",
   "id": "ed1a35e5",
   "metadata": {},
   "source": [
    "## Task 4\n",
    "\n",
    "Answer the following questions.\n",
    "\n",
    "a) Is the data analysis above sufficient to answer the original question?  If yes then explain why it's sufficient, otherwise explain what type of analysis would have provided appropriate information to help answer the question. Briefly explain your reasoning."
   ]
  },
  {
   "cell_type": "markdown",
   "id": "c0288008",
   "metadata": {},
   "source": [
    "## Analysis Adequacy:\n",
    "\n",
    "The conducted data analysis provides valuable insights into the proportions of rural respondents who feel rushed and either take or do not take public transit. However, it falls short of offering a conclusive answer to the original question, which aims to explore whether there is a significant difference in the likelihood of feeling rushed between rural individuals who commute using public transit and those who do not.\n",
    "\n",
    "**Details:**\n",
    "\n",
    "1. **Proportions Analysis:**\n",
    "   - The analysis computes the proportions of rural respondents feeling rushed and taking public transit (`transit_yes`) as well as those not taking public transit (`transit_no`).\n",
    "   - It calculates the percentages of respondents falling into these categories, providing a basic overview of the prevalence of feeling rushed among rural individuals with different commuting behaviors.\n",
    "\n",
    "2. **Statistical Comparison:**\n",
    "   - However, the analysis stops short of conducting a statistical test to determine whether the observed differences in proportions are statistically significant.\n",
    "   - Statistical significance would indicate whether the variations in feeling rushed between those using and not using public transit are likely due to more than just random chance.\n",
    "\n",
    "3. **Chi-Square Test for Independence:**\n",
    "   - To address this, a more sophisticated statistical approach like the chi-square test for independence is needed.\n",
    "   - This test would assess whether there is a significant association between feeling rushed and the mode of commuting in rural areas. In other words, it helps determine if the observed differences in proportions are likely to be representative of the entire population or if they could occur by chance.\n",
    "\n",
    "4. **Interpretation of Results:**\n",
    "   - The results of a chi-square test would provide a p-value, which indicates the probability of obtaining observed results if there is no true association.\n",
    "   - A small p-value (typically below a chosen significance level, e.g., 0.05) would suggest that the observed differences are unlikely to be random, strengthening the evidence for a meaningful relationship between feeling rushed and commuting behavior in rural areas.\n",
    "\n",
    "**Conclusion:**\n",
    "\n",
    "In summary, while the initial analysis offers descriptive insights, a more advanced statistical comparison, such as a chi-square test for independence, is necessary to draw conclusive findings regarding the association between feeling rushed and the mode of commuting in rural areas.\n"
   ]
  },
  {
   "cell_type": "markdown",
   "id": "d7485340",
   "metadata": {},
   "source": [
    "b) Does the data analysis you performed above provide evidence that Canadians who live in rural areas and use public transit have a poorer mental health than those who don't use public transit to commute to work?  If the analysis doesn't support this claim then describe an analysis that would give you evidence to evaluate this claim. Briefly explain your reasoning."
   ]
  },
  {
   "cell_type": "markdown",
   "id": "e3e374c3",
   "metadata": {},
   "source": [
    "## Analysis on Mental Health in Rural Areas and Public Transit Usage:\n",
    "\n",
    "**Original Question:**\n",
    "*Does the data analysis you performed above provide evidence that Canadians who live in rural areas and use public transit have poorer mental health than those who don't use public transit to commute to work?*\n",
    "\n",
    "**Analysis Overview:**\n",
    "1. **Variables Considered:**\n",
    "   - The analysis primarily focuses on the relationship between feeling rushed and the mode of commuting in rural areas.\n",
    "   - It calculates the proportions of rural respondents feeling rushed and using public transit (`transit_yes`) and those not using public transit (`transit_no`).\n",
    "\n",
    "2. **Limitations in Mental Health Assessment:**\n",
    "   - The current analysis is insufficient to directly assess mental health. Feeling rushed, while indicative of stress, is a limited proxy for overall mental health.\n",
    "   - Mental health is a complex construct encompassing various dimensions, and relying solely on the feeling rushed variable may not capture the full spectrum of mental health issues.\n",
    "\n",
    "3. **Need for Comprehensive Mental Health Assessment:**\n",
    "   - To evaluate mental health comprehensively, additional variables related to mental health indicators should be considered. Examples include self-reported mental health status, stress levels, anxiety, depression, or other relevant metrics.\n",
    "\n",
    "4. **Advanced Analysis for Mental Health Assessment:**\n",
    "   - A more robust analysis would involve statistical tests or models specifically designed to assess mental health outcomes.\n",
    "   - Regression analysis or logistic regression models could be employed, incorporating mental health indicators as dependent variables and commuting behavior as independent variables.\n",
    "\n",
    "5. **Inclusion of Mental Health Surveys:**\n",
    "   - Integration of existing mental health surveys or targeted questions related to mental well-being in the dataset would enhance the ability to draw conclusions about mental health outcomes.\n",
    "   - Surveys addressing mental health dimensions can provide more accurate insights into the psychological well-being of respondents.\n",
    "\n",
    "6. **Consideration of Confounding Factors:**\n",
    "   - To establish a causal link between public transit usage, rural living, and mental health, potential confounding factors such as socio-economic status, employment type, or access to mental health services should be considered and controlled for in the analysis.\n",
    "\n",
    "**Conclusion:**\n",
    "While the current analysis sheds light on the feeling of being rushed in rural areas, it lacks the depth required to directly infer mental health status. A comprehensive assessment of mental health would involve additional variables and sophisticated statistical methods to provide a nuanced understanding of the relationship between rural living, public transit usage, and mental health outcomes.\n"
   ]
  },
  {
   "cell_type": "markdown",
   "id": "cc7cc686",
   "metadata": {},
   "source": [
    "## Marking Rubric\n",
    "\n",
    "\n",
    "Section     | 0 | 1 | 2 | 3\n",
    "------------|---|---|---|---\n",
    "Computational questions (for each part) |auto test fails | auto test passes | NA | NA \n",
    "Qualitative questions (for each part) | No answer | The question is answered but no explanation is given | The question is answered but the explanation is not supported or weakly supported | The question is answered and the explanation is supported"
   ]
  },
  {
   "cell_type": "code",
   "execution_count": 252,
   "id": "b91bd211-fd99-4adb-b2b1-ba8bdc8b6e26",
   "metadata": {},
   "outputs": [
    {
     "name": "stdout",
     "output_type": "stream",
     "text": [
      "feeling_rushed\n",
      "True     14853\n",
      "False     2537\n",
      "Name: count, dtype: int64\n",
      "transit_yes\n",
      "False    16243\n",
      "True      1147\n",
      "Name: count, dtype: int64\n",
      "transit_no\n",
      "False    9762\n",
      "True     7628\n",
      "Name: count, dtype: int64\n",
      "rural\n",
      "False    13839\n",
      "True      3551\n",
      "Name: count, dtype: int64\n"
     ]
    }
   ],
   "source": [
    "feeling_rushed_counts = clean_time_use_data['feeling_rushed'].value_counts()\n",
    "print(feeling_rushed_counts)\n",
    "\n",
    "# For 'transit_yes'\n",
    "transit_yes_counts = clean_time_use_data['transit_yes'].value_counts()\n",
    "print(transit_yes_counts)\n",
    "\n",
    "# For 'transit_no'\n",
    "transit_no_counts = clean_time_use_data['transit_no'].value_counts()\n",
    "print(transit_no_counts)\n",
    "\n",
    "# For 'rural'\n",
    "rural_counts = clean_time_use_data['rural'].value_counts()\n",
    "print(rural_counts)\n"
   ]
  },
  {
   "cell_type": "code",
   "execution_count": 253,
   "id": "f6ac12a6-cc56-4cc1-99cf-85844ba485e2",
   "metadata": {},
   "outputs": [
    {
     "name": "stdout",
     "output_type": "stream",
     "text": [
      "Total number of people who feel rushed, use transit, and live in rural areas: 41\n"
     ]
    }
   ],
   "source": [
    "# Create boolean conditions\n",
    "rush_condition = clean_time_use_data['feeling_rushed'] == True\n",
    "transit_condition = clean_time_use_data['transit_yes'] == True\n",
    "rural_condition = clean_time_use_data['rural'] == True\n",
    "\n",
    "# Combine conditions\n",
    "selected_condition = rush_condition & transit_condition & rural_condition\n",
    "\n",
    "# Filter DataFrame based on the combined condition\n",
    "selected_rows = clean_time_use_data[selected_condition]\n",
    "\n",
    "# Get the total number of people who meet the criteria\n",
    "total_people_count = selected_rows.shape[0]\n",
    "\n",
    "print(f'Total number of people who feel rushed, use transit, and live in rural areas: {total_people_count}')\n"
   ]
  },
  {
   "cell_type": "code",
   "execution_count": 254,
   "id": "d24dea87-47bc-4ba9-b83c-d5569acc566c",
   "metadata": {},
   "outputs": [
    {
     "name": "stdout",
     "output_type": "stream",
     "text": [
      "Total number of people who feel rushed, do not use transit, and live in rural areas: 1439\n"
     ]
    }
   ],
   "source": [
    "# Create boolean conditions\n",
    "rush_condition = clean_time_use_data['feeling_rushed'] == True\n",
    "transit_no_condition = clean_time_use_data['transit_no'] == True\n",
    "rural_condition = clean_time_use_data['rural'] == True\n",
    "\n",
    "# Combine conditions\n",
    "selected_condition = rush_condition & transit_no_condition & rural_condition\n",
    "\n",
    "# Filter DataFrame based on the combined condition\n",
    "selected_rows = clean_time_use_data[selected_condition]\n",
    "\n",
    "# Get the total number of people who meet the criteria\n",
    "total_people_count = selected_rows.shape[0]\n",
    "\n",
    "print(f'Total number of people who feel rushed, do not use transit, and live in rural areas: {total_people_count}')\n"
   ]
  },
  {
   "cell_type": "code",
   "execution_count": null,
   "id": "e6dd98fc-45e1-4d91-901d-9322d711be96",
   "metadata": {},
   "outputs": [],
   "source": []
  }
 ],
 "metadata": {
  "kernelspec": {
   "display_name": "Python 3 (ipykernel)",
   "language": "python",
   "name": "python3"
  },
  "language_info": {
   "codemirror_mode": {
    "name": "ipython",
    "version": 3
   },
   "file_extension": ".py",
   "mimetype": "text/x-python",
   "name": "python",
   "nbconvert_exporter": "python",
   "pygments_lexer": "ipython3",
   "version": "3.11.6"
  },
  "vscode": {
   "interpreter": {
    "hash": "8b8edaa195e148f815789564e9a10f57d8b792ac9e1a5daafce5fbae42bebd0e"
   }
  }
 },
 "nbformat": 4,
 "nbformat_minor": 5
}
