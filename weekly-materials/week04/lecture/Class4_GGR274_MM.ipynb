{
 "cells": [
  {
   "cell_type": "markdown",
   "id": "98f72e59-e275-467b-85f3-9478c5215fd9",
   "metadata": {
    "slideshow": {
     "slide_type": "slide"
    },
    "tags": []
   },
   "source": [
    "# Lecture 4: Introduction to `pandas` and Data Wrangling\n",
    "\n",
    "- Introduction to working with (tabular) data using `pandas`\n",
    "\n",
    "   + Import a csv file into a `pandas` `DataFrame`\n",
    "\n",
    "- Selecting rows of a DataFrame\n",
    "\n",
    "- Selecting columns of a DataFrame\n",
    "\n",
    "- Computing summary statistics on a DataFrame\n"
   ]
  },
  {
   "cell_type": "markdown",
   "id": "a1ecf517-3843-40a2-932b-e03517ba9f6e",
   "metadata": {
    "slideshow": {
     "slide_type": "slide"
    },
    "tags": []
   },
   "source": [
    "## `pandas`\n",
    "\n",
    "- `pandas` is a python package that makes it easy to work with tabular data.\n",
    "\n",
    "- What is tabular data?"
   ]
  },
  {
   "cell_type": "markdown",
   "id": "4e75f61d-52e9-4775-a63d-4850294b5a12",
   "metadata": {
    "slideshow": {
     "slide_type": "subslide"
    },
    "tags": []
   },
   "source": [
    "## Data Example 1\n",
    "\n",
    "Is this data tabular?\n",
    "\n",
    "![](images/excel_screenshot.png)"
   ]
  },
  {
   "cell_type": "markdown",
   "id": "37ecf2b9-6b67-4156-9929-d2257f520ce9",
   "metadata": {
    "slideshow": {
     "slide_type": "subslide"
    }
   },
   "source": [
    "## Data Example 2\n",
    "\n",
    "Is this data tabular?\n",
    "\n",
    "![](images/platodata.png)\n",
    "\n",
    "Text is taken from the [Stanford Encyclopedia of Philosophy.](https://plato.stanford.edu/entries/plato-ethics-shorter/)"
   ]
  },
  {
   "cell_type": "markdown",
   "id": "6c382785-b550-4ab2-9b64-564acfcfc25d",
   "metadata": {
    "slideshow": {
     "slide_type": "subslide"
    }
   },
   "source": [
    "## Data Example 3\n",
    "\n",
    "Is this data tabular?\n",
    "\n",
    "![](images/policesearchdata.png)"
   ]
  },
  {
   "cell_type": "markdown",
   "id": "82b878fc-3ffb-42d0-9490-eaa2626f694e",
   "metadata": {
    "slideshow": {
     "slide_type": "slide"
    }
   },
   "source": [
    "## Raw Data\n",
    "\n",
    "The data from Example 3 is from \n",
    "\n",
    "<https://open.toronto.ca/dataset/police-race-and-identity-based-data-collection-arrests-strip-searches/>\n",
    "\n",
    "Is this **raw data**?\n",
    "\n",
    "What is this data's provenance?"
   ]
  },
  {
   "cell_type": "markdown",
   "id": "2c3cf2ac-1e01-4ebb-9a37-8154b046b701",
   "metadata": {
    "hide_input": false,
    "slideshow": {
     "slide_type": "slide"
    }
   },
   "source": [
    "## Comma Separated Value (csv) Files\n",
    "\n",
    "- A csv file is a text file that uses a comma (this is an example of a *delimiter*) to separate values.\n",
    "\n",
    "```\n",
    "id, person, department\n",
    "0, MM, STA\n",
    "1, IM, DCS \n",
    "2, CL, GGR\n",
    "```\n",
    "\n",
    "- csv files often have a \".csv\" extension as part of the file name.  For example, `GGR274faculty.csv`.\n",
    "\n",
    "- Spreadsheet programs such as Excel are often used to create, read, and store csv files.  But, any program (e.g., Jupyter notebooks) that can manage text files can do the same."
   ]
  },
  {
   "cell_type": "markdown",
   "id": "eaea2e26-0d35-45f0-81ce-6b2a6efec2da",
   "metadata": {
    "slideshow": {
     "slide_type": "slide"
    }
   },
   "source": [
    "## pandas\n",
    "\n",
    "- `pandas` is a Python package and is the \"fundamental high-level building block for doing practical, real-world data analysis in Python\" ([see pandas Getting started](https://pandas.pydata.org/docs/getting_started/overview.html)).\n",
    "\n",
    "- We will study and use the primary data structures of pandas, `Series` (1-dimensional) and `DataFrame` (2-dimensional)."
   ]
  },
  {
   "cell_type": "markdown",
   "id": "9a4ad0a0-47ec-4c65-bad0-73331659d28c",
   "metadata": {
    "slideshow": {
     "slide_type": "slide"
    }
   },
   "source": [
    "## Create a pandas `Series`\n",
    "\n",
    "### Import pandas\n",
    "\n",
    "First `import` the `pandas` package."
   ]
  },
  {
   "cell_type": "markdown",
   "id": "3e3a250a",
   "metadata": {},
   "source": []
  },
  {
   "cell_type": "code",
   "execution_count": 1,
   "id": "14f8009d-e901-426c-ab91-23954bb8b71c",
   "metadata": {
    "slideshow": {
     "slide_type": "subslide"
    }
   },
   "outputs": [],
   "source": [
    "import pandas"
   ]
  },
  {
   "cell_type": "markdown",
   "id": "d67e91ef-bc93-42bc-aae8-a3076f97b509",
   "metadata": {},
   "source": [
    "This will allow us to access functions and methods in the pandas package in our Jupyter notebook.  But, we can use the Python keyword `as` to abbreviate `pandas`."
   ]
  },
  {
   "cell_type": "code",
   "execution_count": 2,
   "id": "b02f3b71-e1cc-4ffe-b600-0ae551e968c8",
   "metadata": {
    "slideshow": {
     "slide_type": "fragment"
    }
   },
   "outputs": [],
   "source": [
    "import pandas as pd"
   ]
  },
  {
   "cell_type": "markdown",
   "id": "05c0980f",
   "metadata": {
    "slideshow": {
     "slide_type": "slide"
    }
   },
   "source": [
    "## Create a pandas Series from a List"
   ]
  },
  {
   "cell_type": "code",
   "execution_count": 3,
   "id": "d3db89c7-c3a6-49a9-8e0e-3b8bb68d1584",
   "metadata": {
    "slideshow": {
     "slide_type": "fragment"
    }
   },
   "outputs": [
    {
     "data": {
      "text/plain": [
       "0    MM\n",
       "1    IM\n",
       "2    CL\n",
       "dtype: object"
      ]
     },
     "execution_count": 3,
     "metadata": {},
     "output_type": "execute_result"
    }
   ],
   "source": [
    "people = ['MM', 'IM', 'CL']\n",
    "\n",
    "faculty_series = pd.Series(people)\n",
    "\n",
    "faculty_series"
   ]
  },
  {
   "cell_type": "code",
   "execution_count": 4,
   "id": "e391c471-ab18-4c32-b209-26775a2b1951",
   "metadata": {
    "slideshow": {
     "slide_type": "fragment"
    }
   },
   "outputs": [
    {
     "data": {
      "text/plain": [
       "0    STA\n",
       "1    DCS\n",
       "2    GGR\n",
       "dtype: object"
      ]
     },
     "execution_count": 4,
     "metadata": {},
     "output_type": "execute_result"
    }
   ],
   "source": [
    "dept = ['STA', 'DCS', 'GGR']\n",
    "\n",
    "department_series = pd.Series(dept)\n",
    "\n",
    "department_series"
   ]
  },
  {
   "cell_type": "markdown",
   "id": "c092bb2a-0234-4fbf-aa88-ce930d6cd474",
   "metadata": {
    "slideshow": {
     "slide_type": "slide"
    }
   },
   "source": [
    "## Creating a Boolean Series based on a Condition"
   ]
  },
  {
   "cell_type": "markdown",
   "id": "c2cee787-d31c-42a3-894b-806c8a5d658c",
   "metadata": {
    "slideshow": {
     "slide_type": "fragment"
    }
   },
   "source": [
    "Create a Series where the element is `True` if `department_series` is equal to `STA` and `False` otherwise."
   ]
  },
  {
   "cell_type": "code",
   "execution_count": 5,
   "id": "520309a4",
   "metadata": {},
   "outputs": [
    {
     "data": {
      "text/plain": [
       "0    STA\n",
       "1    DCS\n",
       "2    GGR\n",
       "dtype: object"
      ]
     },
     "execution_count": 5,
     "metadata": {},
     "output_type": "execute_result"
    }
   ],
   "source": [
    "department_series = pd.Series(dept)\n",
    "\n",
    "department_series"
   ]
  },
  {
   "cell_type": "code",
   "execution_count": 6,
   "id": "fef1cc20-ca03-4e80-bee0-86a93907cb39",
   "metadata": {
    "slideshow": {
     "slide_type": "fragment"
    }
   },
   "outputs": [
    {
     "data": {
      "text/plain": [
       "0     True\n",
       "1    False\n",
       "2    False\n",
       "dtype: bool"
      ]
     },
     "execution_count": 6,
     "metadata": {},
     "output_type": "execute_result"
    }
   ],
   "source": [
    "department_series == 'STA'"
   ]
  },
  {
   "cell_type": "markdown",
   "id": "afaff8ad",
   "metadata": {
    "slideshow": {
     "slide_type": "subslide"
    }
   },
   "source": [
    "Create a Series where the element is `True` if `department_series` is equal to `GGR` and `False` otherwise."
   ]
  },
  {
   "cell_type": "code",
   "execution_count": 10,
   "id": "39f8a21a-f936-40e4-be1e-9b6ae0505271",
   "metadata": {},
   "outputs": [
    {
     "data": {
      "text/plain": [
       "0    False\n",
       "1    False\n",
       "2     True\n",
       "dtype: bool"
      ]
     },
     "execution_count": 10,
     "metadata": {},
     "output_type": "execute_result"
    }
   ],
   "source": [
    "department_series == 'GGR'"
   ]
  },
  {
   "cell_type": "markdown",
   "id": "f2f431b5-3730-4790-8ef6-bc63dad56608",
   "metadata": {
    "slideshow": {
     "slide_type": "subslide"
    }
   },
   "source": [
    "Create a Series where the element is `True` if `department_series` is equal to `STA` **OR** `GGR` and `False` otherwise."
   ]
  },
  {
   "cell_type": "code",
   "execution_count": 12,
   "id": "0c5815f5-2452-4886-81ba-25918aad95fe",
   "metadata": {},
   "outputs": [
    {
     "name": "stdout",
     "output_type": "stream",
     "text": [
      "0     True\n",
      "1    False\n",
      "2     True\n",
      "dtype: bool\n"
     ]
    }
   ],
   "source": [
    "import pandas as pd\n",
    "department_series = pd.Series(['STA', 'DCS', 'GGR'])\n",
    "result_series = (department_series == 'STA') | (department_series == 'GGR')\n",
    "print(result_series)"
   ]
  },
  {
   "cell_type": "markdown",
   "id": "d037dfe4-cc0e-48df-9858-04de31969eac",
   "metadata": {
    "slideshow": {
     "slide_type": "subslide"
    }
   },
   "source": [
    "Create a Series where the element is `True` if `department_series` is equal to `STA` **AND** `GGR` and `False` otherwise."
   ]
  },
  {
   "cell_type": "code",
   "execution_count": 15,
   "id": "18e6255b-718a-497f-9431-eab2c70d169d",
   "metadata": {},
   "outputs": [
    {
     "name": "stdout",
     "output_type": "stream",
     "text": [
      "0    False\n",
      "1    False\n",
      "2    False\n",
      "dtype: bool\n"
     ]
    }
   ],
   "source": [
    "import pandas as pd\n",
    "department_series = pd.Series(['STA', 'DCS', 'GGR'])\n",
    "result_series = (department_series == 'STA') & (department_series == 'GGR')\n",
    "print(result_series)"
   ]
  },
  {
   "cell_type": "markdown",
   "id": "390fdfbf-d740-4b24-a96b-893ba542ad10",
   "metadata": {
    "slideshow": {
     "slide_type": "subslide"
    }
   },
   "source": [
    "Create a Series where the element is  \n",
    "`True` if `department_series` equal to `STA` is **NOT EQUAL** to `department_series` equal to `GGR`,  \n",
    "and `False` otherwise (this is tricky &#128552;)"
   ]
  },
  {
   "cell_type": "code",
   "execution_count": 16,
   "id": "be92454b-361f-4d7e-97f0-a2d12701b0ef",
   "metadata": {},
   "outputs": [
    {
     "name": "stdout",
     "output_type": "stream",
     "text": [
      "0     True\n",
      "1    False\n",
      "2     True\n",
      "dtype: bool\n"
     ]
    }
   ],
   "source": [
    "import pandas as pd\n",
    "department_series = pd.Series(['STA', 'DCS', 'GGR'])\n",
    "result_series = (department_series == 'STA') != (department_series == 'GGR')\n",
    "print(result_series)"
   ]
  },
  {
   "cell_type": "markdown",
   "id": "b8b70f7b-6ed2-406e-9acb-c3d9219882c0",
   "metadata": {
    "slideshow": {
     "slide_type": "slide"
    }
   },
   "source": [
    "## Boolean logic with pandas `Series`"
   ]
  },
  {
   "cell_type": "markdown",
   "id": "d9e19661-bf6f-45bd-9ca3-2eac084c4519",
   "metadata": {},
   "source": [
    "When comparing Boolean Series in pandas we use different logical operators\n",
    "\n",
    "`Series1 = pd.Series([True, False, True])`\n",
    "\n",
    "`Series2 = pd.Series([False, False, True])`\n",
    "\n",
    "\n",
    "Operation | Description                              | Result of operation in a list\n",
    "----------|------------------------------------------|------------\n",
    "`Series1 & Series2` | `Series1` and `Series 2`       | `[False, False, True]`\n",
    "`Series1 \\| Series2` | `Series1` or `Series 2`       | `[True, False, True]`\n",
    "`Series1 != Series2` | `Series1` not equal to `Series 2` | `[True, False, False]`\n",
    "\n"
   ]
  },
  {
   "cell_type": "markdown",
   "id": "a5283a69-a667-4187-9fdd-9c9bcdcbae80",
   "metadata": {
    "slideshow": {
     "slide_type": "slide"
    }
   },
   "source": [
    "## Create a pandas `DataFrame` using a dictionary"
   ]
  },
  {
   "cell_type": "markdown",
   "id": "d521086d-88db-4153-8e8a-e01c6afcd5ab",
   "metadata": {
    "slideshow": {
     "slide_type": "subslide"
    }
   },
   "source": [
    "- A dictionary store data in key-value pairs.\n",
    "\n",
    "- A popular way to create a dictionary is to use curly braces {} and colons `:` to separate keys and values (`key:values`)\n",
    "\n",
    "```\n",
    "candy_dict = {'candy': ['fuzzy peach', 'gummy bear', 'chocolate']}\n",
    "\n",
    "```\n",
    "\n",
    "- the *key* of `candy_dict` is `candy` \n",
    "- the  *values* of `candy` are: `'fuzzy peach', 'gummy bear', 'chocolate'`"
   ]
  },
  {
   "cell_type": "code",
   "execution_count": 17,
   "id": "c55f7233-e540-4541-b38b-1b5702a4553d",
   "metadata": {},
   "outputs": [
    {
     "data": {
      "text/plain": [
       "dict"
      ]
     },
     "execution_count": 17,
     "metadata": {},
     "output_type": "execute_result"
    }
   ],
   "source": [
    "candy_dict = {'candy': ['fuzzy peach', 'gummy bear', 'chocolate']}\n",
    "type(candy_dict)"
   ]
  },
  {
   "cell_type": "markdown",
   "id": "023786d6-6364-42fb-a113-38fa1ff00491",
   "metadata": {
    "slideshow": {
     "slide_type": "subslide"
    }
   },
   "source": [
    "We can create a `dict` of GGR274 course faculty."
   ]
  },
  {
   "cell_type": "code",
   "execution_count": 18,
   "id": "fe150a3f-4ab9-4113-958a-150eea648463",
   "metadata": {},
   "outputs": [
    {
     "data": {
      "text/plain": [
       "{'academic department': ['STA', 'DCS', 'GGR'],\n",
       " 'faculty': ['MM', 'IM', 'CL'],\n",
       " 'favourite candy': ['nurungji', 'gummy bear', 'chocolate'],\n",
       " 'name length': [12, 14, 12]}"
      ]
     },
     "execution_count": 18,
     "metadata": {},
     "output_type": "execute_result"
    }
   ],
   "source": [
    "data = {'academic department' : ['STA', 'DCS', 'GGR'], \n",
    "        'faculty': ['MM', 'IM', 'CL'],\n",
    "        'favourite candy': ['nurungji', 'gummy bear', 'chocolate'],\n",
    "        'name length': [len('Michael Moon'), len('Ilya Musabirov'), len('Chunjiang Li')]}\n",
    "\n",
    "data"
   ]
  },
  {
   "cell_type": "markdown",
   "id": "3a82c4c7-e426-49c3-b3ea-1d858780a5f8",
   "metadata": {
    "slideshow": {
     "slide_type": "subslide"
    }
   },
   "source": [
    "Let's store `data` in a pandas `DataFrame`."
   ]
  },
  {
   "cell_type": "code",
   "execution_count": 19,
   "id": "f0500764-60e2-4472-969d-93a8c2b218d6",
   "metadata": {
    "slideshow": {
     "slide_type": "fragment"
    }
   },
   "outputs": [
    {
     "data": {
      "text/html": [
       "<div>\n",
       "<style scoped>\n",
       "    .dataframe tbody tr th:only-of-type {\n",
       "        vertical-align: middle;\n",
       "    }\n",
       "\n",
       "    .dataframe tbody tr th {\n",
       "        vertical-align: top;\n",
       "    }\n",
       "\n",
       "    .dataframe thead th {\n",
       "        text-align: right;\n",
       "    }\n",
       "</style>\n",
       "<table border=\"1\" class=\"dataframe\">\n",
       "  <thead>\n",
       "    <tr style=\"text-align: right;\">\n",
       "      <th></th>\n",
       "      <th>academic department</th>\n",
       "      <th>faculty</th>\n",
       "      <th>favourite candy</th>\n",
       "      <th>name length</th>\n",
       "    </tr>\n",
       "  </thead>\n",
       "  <tbody>\n",
       "    <tr>\n",
       "      <th>0</th>\n",
       "      <td>STA</td>\n",
       "      <td>MM</td>\n",
       "      <td>nurungji</td>\n",
       "      <td>12</td>\n",
       "    </tr>\n",
       "    <tr>\n",
       "      <th>1</th>\n",
       "      <td>DCS</td>\n",
       "      <td>IM</td>\n",
       "      <td>gummy bear</td>\n",
       "      <td>14</td>\n",
       "    </tr>\n",
       "    <tr>\n",
       "      <th>2</th>\n",
       "      <td>GGR</td>\n",
       "      <td>CL</td>\n",
       "      <td>chocolate</td>\n",
       "      <td>12</td>\n",
       "    </tr>\n",
       "  </tbody>\n",
       "</table>\n",
       "</div>"
      ],
      "text/plain": [
       "  academic department faculty favourite candy  name length\n",
       "0                 STA      MM        nurungji           12\n",
       "1                 DCS      IM      gummy bear           14\n",
       "2                 GGR      CL       chocolate           12"
      ]
     },
     "execution_count": 19,
     "metadata": {},
     "output_type": "execute_result"
    }
   ],
   "source": [
    "pd.DataFrame(data)"
   ]
  },
  {
   "cell_type": "markdown",
   "id": "895816d7-942d-478c-8785-eb4770ddfb72",
   "metadata": {
    "slideshow": {
     "slide_type": "subslide"
    }
   },
   "source": [
    "Now, let's store the pandas `DataFrame` above in a variable called `GGR274fac_df`."
   ]
  },
  {
   "cell_type": "code",
   "execution_count": 20,
   "id": "27484e67-f44e-4f81-be73-fc52ea887f38",
   "metadata": {},
   "outputs": [
    {
     "data": {
      "text/html": [
       "<div>\n",
       "<style scoped>\n",
       "    .dataframe tbody tr th:only-of-type {\n",
       "        vertical-align: middle;\n",
       "    }\n",
       "\n",
       "    .dataframe tbody tr th {\n",
       "        vertical-align: top;\n",
       "    }\n",
       "\n",
       "    .dataframe thead th {\n",
       "        text-align: right;\n",
       "    }\n",
       "</style>\n",
       "<table border=\"1\" class=\"dataframe\">\n",
       "  <thead>\n",
       "    <tr style=\"text-align: right;\">\n",
       "      <th></th>\n",
       "      <th>academic department</th>\n",
       "      <th>faculty</th>\n",
       "      <th>favourite candy</th>\n",
       "      <th>name length</th>\n",
       "    </tr>\n",
       "  </thead>\n",
       "  <tbody>\n",
       "    <tr>\n",
       "      <th>0</th>\n",
       "      <td>STA</td>\n",
       "      <td>MM</td>\n",
       "      <td>nurungji</td>\n",
       "      <td>12</td>\n",
       "    </tr>\n",
       "    <tr>\n",
       "      <th>1</th>\n",
       "      <td>DCS</td>\n",
       "      <td>IM</td>\n",
       "      <td>gummy bear</td>\n",
       "      <td>14</td>\n",
       "    </tr>\n",
       "    <tr>\n",
       "      <th>2</th>\n",
       "      <td>GGR</td>\n",
       "      <td>CL</td>\n",
       "      <td>chocolate</td>\n",
       "      <td>12</td>\n",
       "    </tr>\n",
       "  </tbody>\n",
       "</table>\n",
       "</div>"
      ],
      "text/plain": [
       "  academic department faculty favourite candy  name length\n",
       "0                 STA      MM        nurungji           12\n",
       "1                 DCS      IM      gummy bear           14\n",
       "2                 GGR      CL       chocolate           12"
      ]
     },
     "execution_count": 20,
     "metadata": {},
     "output_type": "execute_result"
    }
   ],
   "source": [
    "GGR274fac_df = pd.DataFrame(data)\n",
    "\n",
    "GGR274fac_df"
   ]
  },
  {
   "cell_type": "markdown",
   "id": "1bde8306-81a9-47c0-8f52-a42c1e635f3c",
   "metadata": {
    "slideshow": {
     "slide_type": "slide"
    }
   },
   "source": [
    "## Select rows of a `DataFrame` using a list of  `True` & `False` values (a.ka. Boolean values)"
   ]
  },
  {
   "cell_type": "markdown",
   "id": "856ca056-c791-4300-899b-3a0270230a01",
   "metadata": {
    "slideshow": {
     "slide_type": "fragment"
    }
   },
   "source": [
    "Let's remove the second row. "
   ]
  },
  {
   "cell_type": "code",
   "execution_count": 21,
   "id": "80751f52-e6ae-460e-949b-646604f9a283",
   "metadata": {
    "slideshow": {
     "slide_type": "fragment"
    }
   },
   "outputs": [
    {
     "name": "stdout",
     "output_type": "stream",
     "text": [
      "  academic department faculty favourite candy  name length\n",
      "0                 STA      MM        nurungji           12\n",
      "1                 DCS      IM      gummy bear           14\n",
      "2                 GGR      CL       chocolate           12\n"
     ]
    },
    {
     "data": {
      "text/html": [
       "<div>\n",
       "<style scoped>\n",
       "    .dataframe tbody tr th:only-of-type {\n",
       "        vertical-align: middle;\n",
       "    }\n",
       "\n",
       "    .dataframe tbody tr th {\n",
       "        vertical-align: top;\n",
       "    }\n",
       "\n",
       "    .dataframe thead th {\n",
       "        text-align: right;\n",
       "    }\n",
       "</style>\n",
       "<table border=\"1\" class=\"dataframe\">\n",
       "  <thead>\n",
       "    <tr style=\"text-align: right;\">\n",
       "      <th></th>\n",
       "      <th>academic department</th>\n",
       "      <th>faculty</th>\n",
       "      <th>favourite candy</th>\n",
       "      <th>name length</th>\n",
       "    </tr>\n",
       "  </thead>\n",
       "  <tbody>\n",
       "    <tr>\n",
       "      <th>0</th>\n",
       "      <td>STA</td>\n",
       "      <td>MM</td>\n",
       "      <td>nurungji</td>\n",
       "      <td>12</td>\n",
       "    </tr>\n",
       "    <tr>\n",
       "      <th>2</th>\n",
       "      <td>GGR</td>\n",
       "      <td>CL</td>\n",
       "      <td>chocolate</td>\n",
       "      <td>12</td>\n",
       "    </tr>\n",
       "  </tbody>\n",
       "</table>\n",
       "</div>"
      ],
      "text/plain": [
       "  academic department faculty favourite candy  name length\n",
       "0                 STA      MM        nurungji           12\n",
       "2                 GGR      CL       chocolate           12"
      ]
     },
     "execution_count": 21,
     "metadata": {},
     "output_type": "execute_result"
    }
   ],
   "source": [
    "print(GGR274fac_df)\n",
    "\n",
    "GGR274fac_df[[True, False, True]]"
   ]
  },
  {
   "cell_type": "code",
   "execution_count": 24,
   "id": "56b3d0b8-3371-4b40-837a-ec9837806b56",
   "metadata": {
    "slideshow": {
     "slide_type": "fragment"
    }
   },
   "outputs": [
    {
     "name": "stdout",
     "output_type": "stream",
     "text": [
      "  academic department faculty favourite candy  name length\n",
      "0                 STA      MM        nurungji           12\n",
      "1                 DCS      IM      gummy bear           14\n",
      "2                 GGR      CL       chocolate           12\n"
     ]
    },
    {
     "data": {
      "text/html": [
       "<div>\n",
       "<style scoped>\n",
       "    .dataframe tbody tr th:only-of-type {\n",
       "        vertical-align: middle;\n",
       "    }\n",
       "\n",
       "    .dataframe tbody tr th {\n",
       "        vertical-align: top;\n",
       "    }\n",
       "\n",
       "    .dataframe thead th {\n",
       "        text-align: right;\n",
       "    }\n",
       "</style>\n",
       "<table border=\"1\" class=\"dataframe\">\n",
       "  <thead>\n",
       "    <tr style=\"text-align: right;\">\n",
       "      <th></th>\n",
       "      <th>academic department</th>\n",
       "      <th>faculty</th>\n",
       "      <th>favourite candy</th>\n",
       "      <th>name length</th>\n",
       "    </tr>\n",
       "  </thead>\n",
       "  <tbody>\n",
       "    <tr>\n",
       "      <th>1</th>\n",
       "      <td>DCS</td>\n",
       "      <td>IM</td>\n",
       "      <td>gummy bear</td>\n",
       "      <td>14</td>\n",
       "    </tr>\n",
       "    <tr>\n",
       "      <th>2</th>\n",
       "      <td>GGR</td>\n",
       "      <td>CL</td>\n",
       "      <td>chocolate</td>\n",
       "      <td>12</td>\n",
       "    </tr>\n",
       "  </tbody>\n",
       "</table>\n",
       "</div>"
      ],
      "text/plain": [
       "  academic department faculty favourite candy  name length\n",
       "1                 DCS      IM      gummy bear           14\n",
       "2                 GGR      CL       chocolate           12"
      ]
     },
     "execution_count": 24,
     "metadata": {},
     "output_type": "execute_result"
    }
   ],
   "source": [
    "print(GGR274fac_df)\n",
    "\n",
    "GGR274fac_df[[False, True, True]]"
   ]
  },
  {
   "cell_type": "markdown",
   "id": "927f9724",
   "metadata": {
    "slideshow": {
     "slide_type": "fragment"
    }
   },
   "source": [
    "- What happened?\n",
    "\n",
    "- How can I remove the first row?\n",
    "\n",
    "GGR274fac_df[[False, True, True]]"
   ]
  },
  {
   "cell_type": "code",
   "execution_count": 22,
   "id": "ddce3c8d",
   "metadata": {
    "hide_input": false,
    "slideshow": {
     "slide_type": "slide"
    }
   },
   "outputs": [
    {
     "data": {
      "text/html": [
       "\n",
       "        <iframe\n",
       "            width=\"640\"\n",
       "            height=\"480\"\n",
       "            src=\"https://forms.office.com/Pages/ResponsePage.aspx?id=JsKqeAMvTUuQN7RtVsVSEC-tsJgdMo9KmhgqULaAHJxUMDVXRUM1VEI2TlVRS0IwVTNaSUIwS0VMQi4u&embed=true\"\n",
       "            frameborder=\"0\"\n",
       "            allowfullscreen\n",
       "            \n",
       "        ></iframe>\n",
       "        "
      ],
      "text/plain": [
       "<IPython.lib.display.IFrame at 0x7f641d06c910>"
      ]
     },
     "execution_count": 22,
     "metadata": {},
     "output_type": "execute_result"
    }
   ],
   "source": [
    "from IPython.display import IFrame\n",
    "\n",
    "url = \"https://forms.office.com/Pages/ResponsePage.aspx?id=JsKqeAMvTUuQN7RtVsVSEC-tsJgdMo9KmhgqULaAHJxUMDVXRUM1VEI2TlVRS0IwVTNaSUIwS0VMQi4u&embed=true\"\n",
    "\n",
    "IFrame(url, width = 640, height = 480)\n"
   ]
  },
  {
   "cell_type": "markdown",
   "id": "fe8cc3b8-5c42-42b5-afe5-827ed74aa345",
   "metadata": {
    "slideshow": {
     "slide_type": "slide"
    }
   },
   "source": [
    "## Select columns of a `DataFrame` using a list of Column Names"
   ]
  },
  {
   "cell_type": "markdown",
   "id": "575f359c",
   "metadata": {},
   "source": [
    "- The column names in the `DataFrame` `GGR274fac_df` can be obtained using `list()`.\n",
    "\n",
    "- There are other ways to get the column names, but we will focus on this for now.\n"
   ]
  },
  {
   "cell_type": "code",
   "execution_count": 25,
   "id": "e5e1436f",
   "metadata": {},
   "outputs": [
    {
     "data": {
      "text/plain": [
       "['academic department', 'faculty', 'favourite candy', 'name length']"
      ]
     },
     "execution_count": 25,
     "metadata": {},
     "output_type": "execute_result"
    }
   ],
   "source": [
    "list(GGR274fac_df)"
   ]
  },
  {
   "cell_type": "markdown",
   "id": "5665e00e",
   "metadata": {
    "slideshow": {
     "slide_type": "slide"
    }
   },
   "source": [
    "- To select the column `favourite candy` we can add it in quotation marks inside the square brackets `[]` at the end of the `DataFrame` name.\n",
    "\n",
    "- For example: $\\underbrace{\\texttt{GGR274fac_df}}_\\text{DataFrame Name}\\underbrace{\\texttt{['favourite candy']}}_\\text{Column Name}$"
   ]
  },
  {
   "cell_type": "code",
   "execution_count": 27,
   "id": "7978bedd-1e7e-4413-bb33-6856e10a78f2",
   "metadata": {},
   "outputs": [
    {
     "data": {
      "text/plain": [
       "0      nurungji\n",
       "1    gummy bear\n",
       "2     chocolate\n",
       "Name: favourite candy, dtype: object"
      ]
     },
     "execution_count": 27,
     "metadata": {},
     "output_type": "execute_result"
    }
   ],
   "source": [
    "GGR274fac_df['favourite candy']"
   ]
  },
  {
   "cell_type": "code",
   "execution_count": 28,
   "id": "d996a47d",
   "metadata": {},
   "outputs": [
    {
     "data": {
      "text/html": [
       "<div>\n",
       "<style scoped>\n",
       "    .dataframe tbody tr th:only-of-type {\n",
       "        vertical-align: middle;\n",
       "    }\n",
       "\n",
       "    .dataframe tbody tr th {\n",
       "        vertical-align: top;\n",
       "    }\n",
       "\n",
       "    .dataframe thead th {\n",
       "        text-align: right;\n",
       "    }\n",
       "</style>\n",
       "<table border=\"1\" class=\"dataframe\">\n",
       "  <thead>\n",
       "    <tr style=\"text-align: right;\">\n",
       "      <th></th>\n",
       "      <th>favourite candy</th>\n",
       "      <th>name length</th>\n",
       "    </tr>\n",
       "  </thead>\n",
       "  <tbody>\n",
       "    <tr>\n",
       "      <th>0</th>\n",
       "      <td>nurungji</td>\n",
       "      <td>12</td>\n",
       "    </tr>\n",
       "    <tr>\n",
       "      <th>1</th>\n",
       "      <td>gummy bear</td>\n",
       "      <td>14</td>\n",
       "    </tr>\n",
       "    <tr>\n",
       "      <th>2</th>\n",
       "      <td>chocolate</td>\n",
       "      <td>12</td>\n",
       "    </tr>\n",
       "  </tbody>\n",
       "</table>\n",
       "</div>"
      ],
      "text/plain": [
       "  favourite candy  name length\n",
       "0        nurungji           12\n",
       "1      gummy bear           14\n",
       "2       chocolate           12"
      ]
     },
     "execution_count": 28,
     "metadata": {},
     "output_type": "execute_result"
    }
   ],
   "source": [
    "my_list_of_column_names = ['favourite candy', 'name length']\n",
    "\n",
    "GGR274fac_df[my_list_of_column_names]"
   ]
  },
  {
   "cell_type": "code",
   "execution_count": 29,
   "id": "ac48c372",
   "metadata": {},
   "outputs": [
    {
     "data": {
      "text/html": [
       "<div>\n",
       "<style scoped>\n",
       "    .dataframe tbody tr th:only-of-type {\n",
       "        vertical-align: middle;\n",
       "    }\n",
       "\n",
       "    .dataframe tbody tr th {\n",
       "        vertical-align: top;\n",
       "    }\n",
       "\n",
       "    .dataframe thead th {\n",
       "        text-align: right;\n",
       "    }\n",
       "</style>\n",
       "<table border=\"1\" class=\"dataframe\">\n",
       "  <thead>\n",
       "    <tr style=\"text-align: right;\">\n",
       "      <th></th>\n",
       "      <th>favourite candy</th>\n",
       "    </tr>\n",
       "  </thead>\n",
       "  <tbody>\n",
       "    <tr>\n",
       "      <th>0</th>\n",
       "      <td>nurungji</td>\n",
       "    </tr>\n",
       "    <tr>\n",
       "      <th>1</th>\n",
       "      <td>gummy bear</td>\n",
       "    </tr>\n",
       "    <tr>\n",
       "      <th>2</th>\n",
       "      <td>chocolate</td>\n",
       "    </tr>\n",
       "  </tbody>\n",
       "</table>\n",
       "</div>"
      ],
      "text/plain": [
       "  favourite candy\n",
       "0        nurungji\n",
       "1      gummy bear\n",
       "2       chocolate"
      ]
     },
     "execution_count": 29,
     "metadata": {},
     "output_type": "execute_result"
    }
   ],
   "source": [
    "GGR274fac_df[['favourite candy']]"
   ]
  },
  {
   "cell_type": "code",
   "execution_count": 30,
   "id": "20ee0d64",
   "metadata": {
    "slideshow": {
     "slide_type": "subslide"
    }
   },
   "outputs": [
    {
     "name": "stdout",
     "output_type": "stream",
     "text": [
      "The list of column names is: ['academic department', 'faculty', 'favourite candy', 'name length']\n"
     ]
    }
   ],
   "source": [
    "GGR274fac_df_column_names = list(GGR274fac_df)\n",
    "\n",
    "print(f\"The list of column names is: {GGR274fac_df_column_names}\")"
   ]
  },
  {
   "cell_type": "code",
   "execution_count": 31,
   "id": "683857ec",
   "metadata": {},
   "outputs": [
    {
     "data": {
      "text/plain": [
       "'academic department'"
      ]
     },
     "execution_count": 31,
     "metadata": {},
     "output_type": "execute_result"
    }
   ],
   "source": [
    "GGR274fac_df_column_names[0]"
   ]
  },
  {
   "cell_type": "code",
   "execution_count": 32,
   "id": "cda413d6",
   "metadata": {},
   "outputs": [
    {
     "data": {
      "text/plain": [
       "0    STA\n",
       "1    DCS\n",
       "2    GGR\n",
       "Name: academic department, dtype: object"
      ]
     },
     "execution_count": 32,
     "metadata": {},
     "output_type": "execute_result"
    }
   ],
   "source": [
    "GGR274fac_df[GGR274fac_df_column_names[0]]"
   ]
  },
  {
   "cell_type": "code",
   "execution_count": 33,
   "id": "f50d2475-b178-4976-aa0b-fc3ed60daba3",
   "metadata": {},
   "outputs": [
    {
     "data": {
      "text/plain": [
       "0    12\n",
       "1    14\n",
       "2    12\n",
       "Name: name length, dtype: int64"
      ]
     },
     "execution_count": 33,
     "metadata": {},
     "output_type": "execute_result"
    }
   ],
   "source": [
    "GGR274fac_df[GGR274fac_df_column_names[3]]"
   ]
  },
  {
   "cell_type": "markdown",
   "id": "87518a7b",
   "metadata": {},
   "source": [
    "Which column number will be selected using: \n",
    "\n",
    "- `GGR274fac_df[GGR274fac_df_column_names[0]]`\n",
    "\n",
    "- `GGR274fac_df[GGR274fac_df_column_names[3]]`"
   ]
  },
  {
   "cell_type": "markdown",
   "id": "ff8602ca-736e-4eff-99aa-53c72403b726",
   "metadata": {
    "slideshow": {
     "slide_type": "slide"
    }
   },
   "source": [
    "## Select rows of a `DataFrame`"
   ]
  },
  {
   "cell_type": "markdown",
   "id": "924e2c20",
   "metadata": {},
   "source": [
    "- Rows can be selected from a `DataFrame` using a list of Boolean values.\n",
    "\n",
    "- $\\underbrace{\\texttt{GGR274fac_df}}_\\text{DataFrame Name}\\underbrace{\\texttt{[[True, False, True]]}}_\\text{List of Boolean values}$ \n",
    "\n",
    "   + selects the first and third rows of the `DataFrame` since the first and third values are `True`.  The second row is not selected since the second element of the list is `False`."
   ]
  },
  {
   "cell_type": "code",
   "execution_count": 34,
   "id": "ade27ec9",
   "metadata": {},
   "outputs": [
    {
     "data": {
      "text/plain": [
       "[True, False, True]"
      ]
     },
     "execution_count": 34,
     "metadata": {},
     "output_type": "execute_result"
    }
   ],
   "source": [
    "my_important_condition = [True, False, True]\n",
    "\n",
    "my_important_condition"
   ]
  },
  {
   "cell_type": "code",
   "execution_count": 35,
   "id": "15d73553-fdea-41ab-8fdf-388e5e224b8e",
   "metadata": {},
   "outputs": [
    {
     "data": {
      "text/html": [
       "<div>\n",
       "<style scoped>\n",
       "    .dataframe tbody tr th:only-of-type {\n",
       "        vertical-align: middle;\n",
       "    }\n",
       "\n",
       "    .dataframe tbody tr th {\n",
       "        vertical-align: top;\n",
       "    }\n",
       "\n",
       "    .dataframe thead th {\n",
       "        text-align: right;\n",
       "    }\n",
       "</style>\n",
       "<table border=\"1\" class=\"dataframe\">\n",
       "  <thead>\n",
       "    <tr style=\"text-align: right;\">\n",
       "      <th></th>\n",
       "      <th>academic department</th>\n",
       "      <th>faculty</th>\n",
       "    </tr>\n",
       "  </thead>\n",
       "  <tbody>\n",
       "    <tr>\n",
       "      <th>0</th>\n",
       "      <td>STA</td>\n",
       "      <td>MM</td>\n",
       "    </tr>\n",
       "    <tr>\n",
       "      <th>2</th>\n",
       "      <td>GGR</td>\n",
       "      <td>CL</td>\n",
       "    </tr>\n",
       "  </tbody>\n",
       "</table>\n",
       "</div>"
      ],
      "text/plain": [
       "  academic department faculty\n",
       "0                 STA      MM\n",
       "2                 GGR      CL"
      ]
     },
     "execution_count": 35,
     "metadata": {},
     "output_type": "execute_result"
    }
   ],
   "source": [
    "GGR274fac_cond = GGR274fac_df[my_important_condition] # select rows\n",
    "\n",
    "my_important_columns = ['academic department', 'faculty']\n",
    "\n",
    "GGR274fac_cond[my_important_columns] # select columns"
   ]
  },
  {
   "cell_type": "markdown",
   "id": "29666595",
   "metadata": {
    "slideshow": {
     "slide_type": "slide"
    }
   },
   "source": [
    "## Select rows and columns of a `DataFrame`"
   ]
  },
  {
   "cell_type": "markdown",
   "id": "2c67b2bb-4575-4bf2-bb1a-287989598734",
   "metadata": {
    "slideshow": {
     "slide_type": "subslide"
    }
   },
   "source": [
    "Combine these two lines of code:\n",
    "\n",
    "```\n",
    "GGR274fac_cond = GGR274fac_df[my_important_condition] # select rows\n",
    "\n",
    "GGR274fac_cond[mycolumns] # select columns\n",
    "```\n",
    "\n",
    "to select rows and columns."
   ]
  },
  {
   "cell_type": "code",
   "execution_count": 36,
   "id": "94fcef0d-32f9-4d7d-a4f5-82f2210d582d",
   "metadata": {},
   "outputs": [
    {
     "data": {
      "text/html": [
       "<div>\n",
       "<style scoped>\n",
       "    .dataframe tbody tr th:only-of-type {\n",
       "        vertical-align: middle;\n",
       "    }\n",
       "\n",
       "    .dataframe tbody tr th {\n",
       "        vertical-align: top;\n",
       "    }\n",
       "\n",
       "    .dataframe thead th {\n",
       "        text-align: right;\n",
       "    }\n",
       "</style>\n",
       "<table border=\"1\" class=\"dataframe\">\n",
       "  <thead>\n",
       "    <tr style=\"text-align: right;\">\n",
       "      <th></th>\n",
       "      <th>academic department</th>\n",
       "      <th>faculty</th>\n",
       "      <th>favourite candy</th>\n",
       "      <th>name length</th>\n",
       "    </tr>\n",
       "  </thead>\n",
       "  <tbody>\n",
       "    <tr>\n",
       "      <th>0</th>\n",
       "      <td>STA</td>\n",
       "      <td>MM</td>\n",
       "      <td>nurungji</td>\n",
       "      <td>12</td>\n",
       "    </tr>\n",
       "    <tr>\n",
       "      <th>1</th>\n",
       "      <td>DCS</td>\n",
       "      <td>IM</td>\n",
       "      <td>gummy bear</td>\n",
       "      <td>14</td>\n",
       "    </tr>\n",
       "    <tr>\n",
       "      <th>2</th>\n",
       "      <td>GGR</td>\n",
       "      <td>CL</td>\n",
       "      <td>chocolate</td>\n",
       "      <td>12</td>\n",
       "    </tr>\n",
       "  </tbody>\n",
       "</table>\n",
       "</div>"
      ],
      "text/plain": [
       "  academic department faculty favourite candy  name length\n",
       "0                 STA      MM        nurungji           12\n",
       "1                 DCS      IM      gummy bear           14\n",
       "2                 GGR      CL       chocolate           12"
      ]
     },
     "execution_count": 36,
     "metadata": {},
     "output_type": "execute_result"
    }
   ],
   "source": [
    "GGR274fac_df"
   ]
  },
  {
   "cell_type": "markdown",
   "id": "1e3f445c-c190-46e0-89d5-21b73a9b84d0",
   "metadata": {
    "slideshow": {
     "slide_type": "slide"
    }
   },
   "source": [
    "## Exercise\n",
    "\n",
    "Create a pandas `DataFrame` with three columns: \n",
    "\n",
    "1. Your first name and two people sitting close to you -- your (new??) friends.\n",
    "\n",
    "2. The distance from home to the U of T St. George campus for you and your two (new?) friends.\n",
    "\n",
    "3. The month and day of you and your two (new?) friends' birthday."
   ]
  },
  {
   "cell_type": "code",
   "execution_count": 38,
   "id": "aca5d0cd",
   "metadata": {},
   "outputs": [
    {
     "data": {
      "text/html": [
       "<div>\n",
       "<style scoped>\n",
       "    .dataframe tbody tr th:only-of-type {\n",
       "        vertical-align: middle;\n",
       "    }\n",
       "\n",
       "    .dataframe tbody tr th {\n",
       "        vertical-align: top;\n",
       "    }\n",
       "\n",
       "    .dataframe thead th {\n",
       "        text-align: right;\n",
       "    }\n",
       "</style>\n",
       "<table border=\"1\" class=\"dataframe\">\n",
       "  <thead>\n",
       "    <tr style=\"text-align: right;\">\n",
       "      <th></th>\n",
       "      <th>Name</th>\n",
       "      <th>Distance_to_UofT</th>\n",
       "      <th>Birthday</th>\n",
       "    </tr>\n",
       "  </thead>\n",
       "  <tbody>\n",
       "    <tr>\n",
       "      <th>0</th>\n",
       "      <td>Vansh</td>\n",
       "      <td>0.1</td>\n",
       "      <td>04-24</td>\n",
       "    </tr>\n",
       "    <tr>\n",
       "      <th>1</th>\n",
       "      <td>David</td>\n",
       "      <td>1.2</td>\n",
       "      <td>05-22</td>\n",
       "    </tr>\n",
       "    <tr>\n",
       "      <th>2</th>\n",
       "      <td>Benji</td>\n",
       "      <td>12.0</td>\n",
       "      <td>07-09</td>\n",
       "    </tr>\n",
       "  </tbody>\n",
       "</table>\n",
       "</div>"
      ],
      "text/plain": [
       "    Name  Distance_to_UofT Birthday\n",
       "0  Vansh               0.1    04-24\n",
       "1  David               1.2    05-22\n",
       "2  Benji              12.0    07-09"
      ]
     },
     "metadata": {},
     "output_type": "display_data"
    }
   ],
   "source": [
    "import pandas as pd\n",
    "\n",
    "# Given data\n",
    "data = {\n",
    "    'Name': ['Vansh', 'David', 'Benji'],\n",
    "    'Distance_to_UofT': [0.1, 1.2, 12.0],  # distances in kilometers\n",
    "    'Birthday': ['04-24', '05-22', '07-09']  # assuming MM-DD format\n",
    "}\n",
    "\n",
    "# DataFrame from the dictionary\n",
    "df = pd.DataFrame(data)\n",
    "\n",
    "# Print the DataFrame\n",
    "display(df)\n"
   ]
  },
  {
   "cell_type": "markdown",
   "id": "d223a144-efdb-4718-b052-331de18503e7",
   "metadata": {
    "slideshow": {
     "slide_type": "slide"
    }
   },
   "source": [
    "## Create a `pandas` `DataFrame` from a csv file\n",
    "\n",
    "- Data will usually be stored in a file such as a csv. \n",
    "\n",
    "- It's very **convenient** to \"read\" the file into a pandas `DataFrame`, since pandas has many methods that can manipulate *tabular* data.  Otherwise, we could use base python to do these manipulations."
   ]
  },
  {
   "cell_type": "markdown",
   "id": "b4c55555-faa5-403c-ae6b-6aaaeb0dd753",
   "metadata": {
    "slideshow": {
     "slide_type": "slide"
    }
   },
   "source": [
    "## Time Use dataset\n",
    "\n",
    "Dataset: Statistics Canada General Social Survey's (GSS) Time Use (TU) Survey\n",
    "\n",
    "- Tracks how people spend their time\n",
    "- two parts:\n",
    "    + an _episode_ file where each row describes an event for one person; each person has one row per event (like \"make coffee\") that they experienced.\n",
    "    + a _main_ file that includes meta-information about the individuals and also includes summary information from the _episode_ file; there is 1 row of information per person.\n",
    "\n",
    "- we will stick to the 'main' file for now\n",
    "\n",
    "The data are stored in file `gss_tu2016_main_file.csv`. The name uses abbreviations:\n",
    "\n",
    "- `GSS`: general social survey\n",
    "- `tu2016`: time use from the year 2016\n",
    "- `csv`: comma-separated values"
   ]
  },
  {
   "cell_type": "markdown",
   "id": "10a81ee7-c130-4fd8-8866-341b2457a068",
   "metadata": {
    "slideshow": {
     "slide_type": "slide"
    }
   },
   "source": [
    "## Import Time Use Survey Data using pandas"
   ]
  },
  {
   "cell_type": "code",
   "execution_count": 39,
   "id": "f44f8967-4d55-4f8f-b28d-23ed85ef1272",
   "metadata": {},
   "outputs": [
    {
     "data": {
      "text/html": [
       "<div>\n",
       "<style scoped>\n",
       "    .dataframe tbody tr th:only-of-type {\n",
       "        vertical-align: middle;\n",
       "    }\n",
       "\n",
       "    .dataframe tbody tr th {\n",
       "        vertical-align: top;\n",
       "    }\n",
       "\n",
       "    .dataframe thead th {\n",
       "        text-align: right;\n",
       "    }\n",
       "</style>\n",
       "<table border=\"1\" class=\"dataframe\">\n",
       "  <thead>\n",
       "    <tr style=\"text-align: right;\">\n",
       "      <th></th>\n",
       "      <th>CASEID</th>\n",
       "      <th>pumfid</th>\n",
       "      <th>wght_per</th>\n",
       "      <th>survmnth</th>\n",
       "      <th>wtbs_001</th>\n",
       "      <th>agecxryg</th>\n",
       "      <th>agegr10</th>\n",
       "      <th>agehsdyc</th>\n",
       "      <th>ageprgrd</th>\n",
       "      <th>chh0014c</th>\n",
       "      <th>...</th>\n",
       "      <th>ree_02</th>\n",
       "      <th>ree_03</th>\n",
       "      <th>rlr_110</th>\n",
       "      <th>lan_01</th>\n",
       "      <th>lanhome</th>\n",
       "      <th>lanhmult</th>\n",
       "      <th>lanmt</th>\n",
       "      <th>lanmtmul</th>\n",
       "      <th>incg1</th>\n",
       "      <th>hhincg1</th>\n",
       "    </tr>\n",
       "  </thead>\n",
       "  <tbody>\n",
       "    <tr>\n",
       "      <th>0</th>\n",
       "      <td>10000</td>\n",
       "      <td>10000</td>\n",
       "      <td>616.6740</td>\n",
       "      <td>7</td>\n",
       "      <td>305.1159</td>\n",
       "      <td>96</td>\n",
       "      <td>5</td>\n",
       "      <td>62</td>\n",
       "      <td>96</td>\n",
       "      <td>0</td>\n",
       "      <td>...</td>\n",
       "      <td>1</td>\n",
       "      <td>1</td>\n",
       "      <td>1</td>\n",
       "      <td>1</td>\n",
       "      <td>1</td>\n",
       "      <td>1</td>\n",
       "      <td>1</td>\n",
       "      <td>1</td>\n",
       "      <td>1</td>\n",
       "      <td>1</td>\n",
       "    </tr>\n",
       "    <tr>\n",
       "      <th>1</th>\n",
       "      <td>10001</td>\n",
       "      <td>10001</td>\n",
       "      <td>8516.6140</td>\n",
       "      <td>7</td>\n",
       "      <td>0.0000</td>\n",
       "      <td>6</td>\n",
       "      <td>5</td>\n",
       "      <td>32</td>\n",
       "      <td>5</td>\n",
       "      <td>0</td>\n",
       "      <td>...</td>\n",
       "      <td>5</td>\n",
       "      <td>6</td>\n",
       "      <td>3</td>\n",
       "      <td>1</td>\n",
       "      <td>5</td>\n",
       "      <td>2</td>\n",
       "      <td>5</td>\n",
       "      <td>2</td>\n",
       "      <td>5</td>\n",
       "      <td>8</td>\n",
       "    </tr>\n",
       "    <tr>\n",
       "      <th>2</th>\n",
       "      <td>10002</td>\n",
       "      <td>10002</td>\n",
       "      <td>371.7520</td>\n",
       "      <td>1</td>\n",
       "      <td>362.7057</td>\n",
       "      <td>2</td>\n",
       "      <td>4</td>\n",
       "      <td>9</td>\n",
       "      <td>10</td>\n",
       "      <td>3</td>\n",
       "      <td>...</td>\n",
       "      <td>5</td>\n",
       "      <td>1</td>\n",
       "      <td>1</td>\n",
       "      <td>1</td>\n",
       "      <td>1</td>\n",
       "      <td>1</td>\n",
       "      <td>1</td>\n",
       "      <td>1</td>\n",
       "      <td>3</td>\n",
       "      <td>8</td>\n",
       "    </tr>\n",
       "    <tr>\n",
       "      <th>3</th>\n",
       "      <td>10003</td>\n",
       "      <td>10003</td>\n",
       "      <td>1019.3135</td>\n",
       "      <td>3</td>\n",
       "      <td>0.0000</td>\n",
       "      <td>96</td>\n",
       "      <td>6</td>\n",
       "      <td>65</td>\n",
       "      <td>96</td>\n",
       "      <td>0</td>\n",
       "      <td>...</td>\n",
       "      <td>3</td>\n",
       "      <td>2</td>\n",
       "      <td>2</td>\n",
       "      <td>1</td>\n",
       "      <td>1</td>\n",
       "      <td>1</td>\n",
       "      <td>1</td>\n",
       "      <td>1</td>\n",
       "      <td>2</td>\n",
       "      <td>2</td>\n",
       "    </tr>\n",
       "    <tr>\n",
       "      <th>4</th>\n",
       "      <td>10004</td>\n",
       "      <td>10004</td>\n",
       "      <td>1916.0708</td>\n",
       "      <td>9</td>\n",
       "      <td>11388.9706</td>\n",
       "      <td>96</td>\n",
       "      <td>2</td>\n",
       "      <td>25</td>\n",
       "      <td>96</td>\n",
       "      <td>0</td>\n",
       "      <td>...</td>\n",
       "      <td>9</td>\n",
       "      <td>99</td>\n",
       "      <td>9</td>\n",
       "      <td>9</td>\n",
       "      <td>99</td>\n",
       "      <td>9</td>\n",
       "      <td>99</td>\n",
       "      <td>9</td>\n",
       "      <td>2</td>\n",
       "      <td>4</td>\n",
       "    </tr>\n",
       "  </tbody>\n",
       "</table>\n",
       "<p>5 rows × 350 columns</p>\n",
       "</div>"
      ],
      "text/plain": [
       "   CASEID  pumfid   wght_per  survmnth    wtbs_001  agecxryg  agegr10  \\\n",
       "0   10000   10000   616.6740         7    305.1159        96        5   \n",
       "1   10001   10001  8516.6140         7      0.0000         6        5   \n",
       "2   10002   10002   371.7520         1    362.7057         2        4   \n",
       "3   10003   10003  1019.3135         3      0.0000        96        6   \n",
       "4   10004   10004  1916.0708         9  11388.9706        96        2   \n",
       "\n",
       "   agehsdyc  ageprgrd  chh0014c  ...  ree_02  ree_03  rlr_110  lan_01  \\\n",
       "0        62        96         0  ...       1       1        1       1   \n",
       "1        32         5         0  ...       5       6        3       1   \n",
       "2         9        10         3  ...       5       1        1       1   \n",
       "3        65        96         0  ...       3       2        2       1   \n",
       "4        25        96         0  ...       9      99        9       9   \n",
       "\n",
       "   lanhome  lanhmult  lanmt  lanmtmul  incg1  hhincg1  \n",
       "0        1         1      1         1      1        1  \n",
       "1        5         2      5         2      5        8  \n",
       "2        1         1      1         1      3        8  \n",
       "3        1         1      1         1      2        2  \n",
       "4       99         9     99         9      2        4  \n",
       "\n",
       "[5 rows x 350 columns]"
      ]
     },
     "execution_count": 39,
     "metadata": {},
     "output_type": "execute_result"
    }
   ],
   "source": [
    "import pandas as pd\n",
    "\n",
    "timeuse_filename = 'gss_tu2016_main_file.csv'\n",
    "\n",
    "time_use_data = pd.read_csv(timeuse_filename)\n",
    "\n",
    "time_use_data.head()"
   ]
  },
  {
   "cell_type": "markdown",
   "id": "78bb9b0d",
   "metadata": {
    "slideshow": {
     "slide_type": "slide"
    }
   },
   "source": [
    "## Question\n",
    "\n",
    "**_Do urban residents with more children report feeling more rushed than those with fewer children?_**"
   ]
  },
  {
   "cell_type": "markdown",
   "id": "277e4d62-a1c1-45ac-bb1f-117efafaa46a",
   "metadata": {
    "slideshow": {
     "slide_type": "fragment"
    }
   },
   "source": [
    "Let's narrow the question even further ...\n",
    "\n",
    "**_Do urban residents with one or more children report feeling more rushed every day versus never feeling rushed than those with no children?_**"
   ]
  },
  {
   "cell_type": "markdown",
   "id": "edf21d45",
   "metadata": {
    "slideshow": {
     "slide_type": "fragment"
    }
   },
   "source": [
    "Among **urban respondents** that **feel rushed daily or never feel rushed** our data analysis will consist of computing the two proportions:\n",
    "\n",
    "$$\\text{Proportion}_\\text{at least one kid} = \\frac{\\text{Number of respondents that feel rushed daily}}{\\text{Number  of respondents with at least one kid that never feel rushed or feel rushed daily}}$$\n",
    "\n",
    "$$\\text{Proportion}_\\text{no kids} = \\frac{\\text{Number of respondents that feel rushed daily}}{\\text{Number  of respondents with no kids that never feel rushed or feel rushed daily}}$$"
   ]
  },
  {
   "cell_type": "markdown",
   "id": "668d0307",
   "metadata": {
    "slideshow": {
     "slide_type": "slide"
    }
   },
   "source": [
    "## Wrangle the Time Use Survey Data \n",
    "\n",
    "Create a new DataFrame with only the relevant columns needed for the data analysis.  In other words, create a subset of `time_use_data`."
   ]
  },
  {
   "cell_type": "markdown",
   "id": "345589d9-6cb4-4aa9-9cc1-bfd500b0165d",
   "metadata": {
    "slideshow": {
     "slide_type": "slide"
    }
   },
   "source": [
    "### Selecting columns from a `DataFrame`\n",
    "\n",
    "What columns are relevant? \n",
    "\n",
    "To create an easy to use data set we will only keep the following columns:\n",
    "\n",
    "- `CASEID`:     participant ID\n",
    "- `luc_rst`:    large urban centre vs rural and small towns\n",
    "- `chh0014c`:   number of kids 14 or under\n",
    "- `gtu_110`:    feeling rushed"
   ]
  },
  {
   "cell_type": "code",
   "execution_count": 42,
   "id": "5db309b4-9f01-42a0-b6d5-9e5ea4a73c59",
   "metadata": {
    "slideshow": {
     "slide_type": "-"
    }
   },
   "outputs": [
    {
     "data": {
      "text/html": [
       "<div>\n",
       "<style scoped>\n",
       "    .dataframe tbody tr th:only-of-type {\n",
       "        vertical-align: middle;\n",
       "    }\n",
       "\n",
       "    .dataframe tbody tr th {\n",
       "        vertical-align: top;\n",
       "    }\n",
       "\n",
       "    .dataframe thead th {\n",
       "        text-align: right;\n",
       "    }\n",
       "</style>\n",
       "<table border=\"1\" class=\"dataframe\">\n",
       "  <thead>\n",
       "    <tr style=\"text-align: right;\">\n",
       "      <th></th>\n",
       "      <th>CASEID</th>\n",
       "      <th>luc_rst</th>\n",
       "      <th>chh0014c</th>\n",
       "      <th>gtu_110</th>\n",
       "    </tr>\n",
       "  </thead>\n",
       "  <tbody>\n",
       "    <tr>\n",
       "      <th>0</th>\n",
       "      <td>10000</td>\n",
       "      <td>1</td>\n",
       "      <td>0</td>\n",
       "      <td>1</td>\n",
       "    </tr>\n",
       "    <tr>\n",
       "      <th>1</th>\n",
       "      <td>10001</td>\n",
       "      <td>1</td>\n",
       "      <td>0</td>\n",
       "      <td>3</td>\n",
       "    </tr>\n",
       "    <tr>\n",
       "      <th>2</th>\n",
       "      <td>10002</td>\n",
       "      <td>1</td>\n",
       "      <td>3</td>\n",
       "      <td>1</td>\n",
       "    </tr>\n",
       "    <tr>\n",
       "      <th>3</th>\n",
       "      <td>10003</td>\n",
       "      <td>1</td>\n",
       "      <td>0</td>\n",
       "      <td>2</td>\n",
       "    </tr>\n",
       "    <tr>\n",
       "      <th>4</th>\n",
       "      <td>10004</td>\n",
       "      <td>1</td>\n",
       "      <td>0</td>\n",
       "      <td>1</td>\n",
       "    </tr>\n",
       "  </tbody>\n",
       "</table>\n",
       "</div>"
      ],
      "text/plain": [
       "   CASEID  luc_rst  chh0014c  gtu_110\n",
       "0   10000        1         0        1\n",
       "1   10001        1         0        3\n",
       "2   10002        1         3        1\n",
       "3   10003        1         0        2\n",
       "4   10004        1         0        1"
      ]
     },
     "execution_count": 42,
     "metadata": {},
     "output_type": "execute_result"
    }
   ],
   "source": [
    "important_columns = [\"CASEID\",\"luc_rst\",\"chh0014c\",\"gtu_110\"] \n",
    "\n",
    "subset_time_use_data = time_use_data[important_columns]\n",
    "subset_time_use_data.head()"
   ]
  },
  {
   "cell_type": "markdown",
   "id": "512621ac-d361-49f2-9ffd-2c994dfec757",
   "metadata": {
    "slideshow": {
     "slide_type": "slide"
    }
   },
   "source": [
    "## Rename columns\n",
    "\n",
    "Use the `rename` function to rename columns."
   ]
  },
  {
   "cell_type": "code",
   "execution_count": 43,
   "id": "5d0cfa9a-9a3b-4f1a-9dee-06738e3c93d9",
   "metadata": {
    "slideshow": {
     "slide_type": "slide"
    }
   },
   "outputs": [
    {
     "data": {
      "text/plain": [
       "['Participant ID', 'Urban/Rural', 'Kids under 14', 'Feeling Rushed']"
      ]
     },
     "execution_count": 43,
     "metadata": {},
     "output_type": "execute_result"
    }
   ],
   "source": [
    "columnnames = {'CASEID': 'Participant ID',\n",
    "               'luc_rst': 'Urban/Rural',\n",
    "               'chh0014c': 'Kids under 14',\n",
    "               'gtu_110': 'Feeling Rushed'}\n",
    "\n",
    "subset_time_use_data_colnames = subset_time_use_data.rename(columns=columnnames)\n",
    "\n",
    "list(subset_time_use_data_colnames)"
   ]
  },
  {
   "cell_type": "markdown",
   "id": "65d73b67-77d1-483d-a5aa-5c37aa589484",
   "metadata": {
    "slideshow": {
     "slide_type": "subslide"
    }
   },
   "source": [
    "From the code book\n",
    "\n",
    "```\n",
    " luc_rst            Population centre indicator\n",
    "\n",
    "           VALUE  LABEL\n",
    "               1  Larger urban population centres (CMA/CA)\n",
    "               2  Rural areas and small population centres (non CMA/CA)\n",
    "               3  Prince Edward Island\n",
    "               6  Valid skip\n",
    "               7  Don't know\n",
    "               8  Refusal\n",
    "               9  Not stated\n",
    "\n",
    "           Data type: numeric\n",
    "           Missing-data codes: 6-9\n",
    "           Record/column: 1/59\n",
    "\n",
    "```\n",
    "\n",
    "```\n",
    " chh0014c           Child(ren) in household - 0 to 14 years\n",
    "\n",
    "           VALUE  LABEL\n",
    "               0  None\n",
    "               1  One\n",
    "               2  Two\n",
    "               3  Three or more\n",
    "               6  Valid skip\n",
    "               7  Don't know\n",
    "               8  Refusal\n",
    "               9  Not stated\n",
    "\n",
    "           Data type: numeric\n",
    "           Missing-data codes: 6-9\n",
    "           Record/column: 1/40\n",
    "\n",
    "```\n",
    "\n",
    "```\n",
    "\n",
    "      gtu_110            General time use - Feel rushed\n",
    "\n",
    "           VALUE  LABEL\n",
    "               1  Every day\n",
    "               2  A few times a week\n",
    "               3  About once a week\n",
    "               4  About once a month\n",
    "               5  Less than once a month\n",
    "               6  Never\n",
    "              96  Valid skip\n",
    "              97  Don't know\n",
    "              98  Refusal\n",
    "              99  Not stated\n",
    "\n",
    "           Data type: numeric\n",
    "           Missing-data codes: 96-99\n",
    "           Record/columns: 1/60-61\n",
    "\n",
    "```"
   ]
  },
  {
   "cell_type": "markdown",
   "id": "bea014ef",
   "metadata": {
    "slideshow": {
     "slide_type": "slide"
    }
   },
   "source": [
    "## Select respondents that live in urban areas\n",
    "\n",
    "Select the `Urban/Rural` column."
   ]
  },
  {
   "cell_type": "markdown",
   "id": "a813d3a1",
   "metadata": {
    "slideshow": {
     "slide_type": "fragment"
    }
   },
   "source": [
    "```\n",
    " luc_rst            Population centre indicator\n",
    "\n",
    "           VALUE  LABEL\n",
    "               1  Larger urban population centres (CMA/CA)\n",
    "               2  Rural areas and small population centres (non CMA/CA)\n",
    "               3  Prince Edward Island\n",
    "               6  Valid skip\n",
    "               7  Don't know\n",
    "               8  Refusal\n",
    "               9  Not stated\n",
    "\n",
    "           Data type: numeric\n",
    "           Missing-data codes: 6-9\n",
    "           Record/column: 1/59\n",
    "\n",
    "```"
   ]
  },
  {
   "cell_type": "code",
   "execution_count": 46,
   "id": "30a342a0-95b2-4331-a990-c5a4bd1733f5",
   "metadata": {
    "scrolled": true,
    "slideshow": {
     "slide_type": "-"
    }
   },
   "outputs": [],
   "source": [
    "urbanrural_col = subset_time_use_data_colnames[\"Urban/Rural\"]"
   ]
  },
  {
   "cell_type": "markdown",
   "id": "1e283b7b",
   "metadata": {
    "slideshow": {
     "slide_type": "fragment"
    }
   },
   "source": [
    "- Create a Boolean variable that is `True` if respondent lives in urban area and `False` otherwise."
   ]
  },
  {
   "cell_type": "code",
   "execution_count": 62,
   "id": "82be3c0a",
   "metadata": {},
   "outputs": [
    {
     "name": "stdout",
     "output_type": "stream",
     "text": [
      "   Participant ID  Urban/Rural  Kids under 14  Feeling Rushed  is_urban\n",
      "0           10000            1              0               1      True\n",
      "1           10001            1              0               3      True\n",
      "2           10002            1              3               1      True\n",
      "3           10003            1              0               2      True\n",
      "4           10004            1              0               1      True\n"
     ]
    }
   ],
   "source": [
    "# Assuming 'subset_time_use_data' DataFrame has been defined and contains the relevant columns\n",
    "# Rename the columns as per the provided code\n",
    "column_names = {'CASEID': 'Participant ID', 'luc_rst': 'Urban/Rural', 'chh0014c': 'Kids under 14', 'gtu_110': 'Feeling Rushed'}\n",
    "subset_data_colnames = subset_time_use_data.rename(columns=column_names)\n",
    "\n",
    "# Create a boolean variable indicating urban residents\n",
    "subset_data_colnames['is_urban'] = subset_data_colnames['Urban/Rural'] == 1\n",
    "\n",
    "# Display the first few rows of the DataFrame with the new variable\n",
    "print(subset_data_colnames.head())\n",
    "\n"
   ]
  },
  {
   "cell_type": "markdown",
   "id": "f26a5dba-3589-4a63-bf29-0a445c43268f",
   "metadata": {
    "slideshow": {
     "slide_type": "subslide"
    }
   },
   "source": [
    "Look at the `head` (first 5 rows) of the Series using `.head()`"
   ]
  },
  {
   "cell_type": "code",
   "execution_count": 63,
   "id": "dc4253b5-acbe-4997-939f-a605a5dfdc8c",
   "metadata": {},
   "outputs": [
    {
     "name": "stdout",
     "output_type": "stream",
     "text": [
      "0    True\n",
      "1    True\n",
      "2    True\n",
      "3    True\n",
      "4    True\n",
      "Name: is_urban, dtype: bool\n"
     ]
    }
   ],
   "source": [
    "# Assuming 'subset_time_use_data' DataFrame has been defined and contains the relevant columns\n",
    "# Rename the columns as per the provided code\n",
    "column_names = {'CASEID': 'Participant ID', 'luc_rst': 'Urban/Rural', 'chh0014c': 'Kids under 14', 'gtu_110': 'Feeling Rushed'}\n",
    "subset_data_colnames = subset_time_use_data.rename(columns=column_names)\n",
    "\n",
    "# Create a boolean variable indicating urban residents\n",
    "subset_data_colnames['is_urban'] = subset_data_colnames['Urban/Rural'] == 1\n",
    "\n",
    "# Display the head of the 'is_urban' Series\n",
    "print(subset_data_colnames['is_urban'].head())"
   ]
  },
  {
   "cell_type": "markdown",
   "id": "4b9e401e-5c40-4334-af90-a81f06a04cc2",
   "metadata": {
    "slideshow": {
     "slide_type": "subslide"
    }
   },
   "source": [
    "We can combine \n",
    "```\n",
    "urbanrural_col = subset_time_use_data_colnames[\"Urban/Rural\"]\n",
    "\n",
    "urban = urbanrural_col == 1\n",
    "```\n",
    "into one line of code"
   ]
  },
  {
   "cell_type": "code",
   "execution_count": 60,
   "id": "bd105369-8528-40bf-8e11-f4a03afaef54",
   "metadata": {},
   "outputs": [],
   "source": [
    "urban = (subset_time_use_data_colnames[\"Urban/Rural\"] == 1)"
   ]
  },
  {
   "cell_type": "code",
   "execution_count": 61,
   "id": "5d25e75c-e690-4d88-81cb-e8882580999b",
   "metadata": {},
   "outputs": [
    {
     "data": {
      "text/plain": [
       "13319"
      ]
     },
     "execution_count": 61,
     "metadata": {},
     "output_type": "execute_result"
    }
   ],
   "source": [
    "urban.sum() # add up the total number of `True` values"
   ]
  },
  {
   "cell_type": "markdown",
   "id": "635f2070-b972-41c3-b34a-42bad5414dae",
   "metadata": {
    "slideshow": {
     "slide_type": "slide"
    }
   },
   "source": [
    "Select all the participants (rows) who live in urban areas in `subset_time_use_data_colnames` using the Boolean series `urban`."
   ]
  },
  {
   "cell_type": "code",
   "execution_count": 64,
   "id": "9ffedd4f-8423-44da-8f40-d4bc6a6f274a",
   "metadata": {},
   "outputs": [
    {
     "data": {
      "text/html": [
       "<div>\n",
       "<style scoped>\n",
       "    .dataframe tbody tr th:only-of-type {\n",
       "        vertical-align: middle;\n",
       "    }\n",
       "\n",
       "    .dataframe tbody tr th {\n",
       "        vertical-align: top;\n",
       "    }\n",
       "\n",
       "    .dataframe thead th {\n",
       "        text-align: right;\n",
       "    }\n",
       "</style>\n",
       "<table border=\"1\" class=\"dataframe\">\n",
       "  <thead>\n",
       "    <tr style=\"text-align: right;\">\n",
       "      <th></th>\n",
       "      <th>Participant ID</th>\n",
       "      <th>Urban/Rural</th>\n",
       "      <th>Kids under 14</th>\n",
       "      <th>Feeling Rushed</th>\n",
       "    </tr>\n",
       "  </thead>\n",
       "  <tbody>\n",
       "    <tr>\n",
       "      <th>0</th>\n",
       "      <td>10000</td>\n",
       "      <td>1</td>\n",
       "      <td>0</td>\n",
       "      <td>1</td>\n",
       "    </tr>\n",
       "    <tr>\n",
       "      <th>1</th>\n",
       "      <td>10001</td>\n",
       "      <td>1</td>\n",
       "      <td>0</td>\n",
       "      <td>3</td>\n",
       "    </tr>\n",
       "    <tr>\n",
       "      <th>2</th>\n",
       "      <td>10002</td>\n",
       "      <td>1</td>\n",
       "      <td>3</td>\n",
       "      <td>1</td>\n",
       "    </tr>\n",
       "    <tr>\n",
       "      <th>3</th>\n",
       "      <td>10003</td>\n",
       "      <td>1</td>\n",
       "      <td>0</td>\n",
       "      <td>2</td>\n",
       "    </tr>\n",
       "    <tr>\n",
       "      <th>4</th>\n",
       "      <td>10004</td>\n",
       "      <td>1</td>\n",
       "      <td>0</td>\n",
       "      <td>1</td>\n",
       "    </tr>\n",
       "  </tbody>\n",
       "</table>\n",
       "</div>"
      ],
      "text/plain": [
       "   Participant ID  Urban/Rural  Kids under 14  Feeling Rushed\n",
       "0           10000            1              0               1\n",
       "1           10001            1              0               3\n",
       "2           10002            1              3               1\n",
       "3           10003            1              0               2\n",
       "4           10004            1              0               1"
      ]
     },
     "execution_count": 64,
     "metadata": {},
     "output_type": "execute_result"
    }
   ],
   "source": [
    "subset_time_use_data_colnames[urban].head()"
   ]
  },
  {
   "cell_type": "code",
   "execution_count": 65,
   "id": "3b0094e0",
   "metadata": {},
   "outputs": [
    {
     "data": {
      "text/plain": [
       "(17390, 4)"
      ]
     },
     "execution_count": 65,
     "metadata": {},
     "output_type": "execute_result"
    }
   ],
   "source": [
    "subset_time_use_data_colnames.shape"
   ]
  },
  {
   "cell_type": "markdown",
   "id": "784940c6",
   "metadata": {
    "slideshow": {
     "slide_type": "fragment"
    }
   },
   "source": [
    "- There are 17 390 rows and 4 columns in `subset_time_use_data_colnames`.\n",
    "\n",
    "- `DataFrame.shape` returns a *tuple* (a Python data type that stores multiple values).\n",
    "\n",
    "- Items in a tuple can be accessed in a similar way to a list."
   ]
  },
  {
   "cell_type": "markdown",
   "id": "eb112006",
   "metadata": {
    "slideshow": {
     "slide_type": "slide"
    }
   },
   "source": [
    "## Define a `DataFrame` with only urban respondents and relevant columns "
   ]
  },
  {
   "cell_type": "code",
   "execution_count": 66,
   "id": "bdd7b0eb",
   "metadata": {
    "slideshow": {
     "slide_type": "-"
    }
   },
   "outputs": [
    {
     "data": {
      "text/html": [
       "<div>\n",
       "<style scoped>\n",
       "    .dataframe tbody tr th:only-of-type {\n",
       "        vertical-align: middle;\n",
       "    }\n",
       "\n",
       "    .dataframe tbody tr th {\n",
       "        vertical-align: top;\n",
       "    }\n",
       "\n",
       "    .dataframe thead th {\n",
       "        text-align: right;\n",
       "    }\n",
       "</style>\n",
       "<table border=\"1\" class=\"dataframe\">\n",
       "  <thead>\n",
       "    <tr style=\"text-align: right;\">\n",
       "      <th></th>\n",
       "      <th>Participant ID</th>\n",
       "      <th>Urban/Rural</th>\n",
       "      <th>Kids under 14</th>\n",
       "      <th>Feeling Rushed</th>\n",
       "    </tr>\n",
       "  </thead>\n",
       "  <tbody>\n",
       "    <tr>\n",
       "      <th>0</th>\n",
       "      <td>10000</td>\n",
       "      <td>1</td>\n",
       "      <td>0</td>\n",
       "      <td>1</td>\n",
       "    </tr>\n",
       "    <tr>\n",
       "      <th>1</th>\n",
       "      <td>10001</td>\n",
       "      <td>1</td>\n",
       "      <td>0</td>\n",
       "      <td>3</td>\n",
       "    </tr>\n",
       "    <tr>\n",
       "      <th>2</th>\n",
       "      <td>10002</td>\n",
       "      <td>1</td>\n",
       "      <td>3</td>\n",
       "      <td>1</td>\n",
       "    </tr>\n",
       "    <tr>\n",
       "      <th>3</th>\n",
       "      <td>10003</td>\n",
       "      <td>1</td>\n",
       "      <td>0</td>\n",
       "      <td>2</td>\n",
       "    </tr>\n",
       "    <tr>\n",
       "      <th>4</th>\n",
       "      <td>10004</td>\n",
       "      <td>1</td>\n",
       "      <td>0</td>\n",
       "      <td>1</td>\n",
       "    </tr>\n",
       "  </tbody>\n",
       "</table>\n",
       "</div>"
      ],
      "text/plain": [
       "   Participant ID  Urban/Rural  Kids under 14  Feeling Rushed\n",
       "0           10000            1              0               1\n",
       "1           10001            1              0               3\n",
       "2           10002            1              3               1\n",
       "3           10003            1              0               2\n",
       "4           10004            1              0               1"
      ]
     },
     "execution_count": 66,
     "metadata": {},
     "output_type": "execute_result"
    }
   ],
   "source": [
    "urban_df = subset_time_use_data_colnames[urban]\n",
    "\n",
    "urban_df.head()"
   ]
  },
  {
   "cell_type": "markdown",
   "id": "d325f703",
   "metadata": {
    "slideshow": {
     "slide_type": "slide"
    }
   },
   "source": [
    "## Examine the *distributions* of each column using `value_counts()`"
   ]
  },
  {
   "cell_type": "markdown",
   "id": "d03b65ca",
   "metadata": {
    "slideshow": {
     "slide_type": "fragment"
    }
   },
   "source": [
    "Distribution of `Kids under 14`."
   ]
  },
  {
   "cell_type": "code",
   "execution_count": 67,
   "id": "3bbac73b",
   "metadata": {},
   "outputs": [
    {
     "data": {
      "text/plain": [
       "Kids under 14\n",
       "0    10514\n",
       "1     1268\n",
       "2     1168\n",
       "3      369\n",
       "Name: count, dtype: int64"
      ]
     },
     "execution_count": 67,
     "metadata": {},
     "output_type": "execute_result"
    }
   ],
   "source": [
    "urban_df['Kids under 14'].value_counts()"
   ]
  },
  {
   "cell_type": "markdown",
   "id": "187435f7",
   "metadata": {},
   "source": [
    "```\n",
    " chh0014c           Child(ren) in household - 0 to 14 years\n",
    "\n",
    "           VALUE  LABEL\n",
    "               0  None\n",
    "               1  One\n",
    "               2  Two\n",
    "               3  Three or more\n",
    "               6  Valid skip\n",
    "               7  Don't know\n",
    "               8  Refusal\n",
    "               9  Not stated\n",
    "\n",
    "           Data type: numeric\n",
    "           Missing-data codes: 6-9\n",
    "           Record/column: 1/40\n",
    "\n",
    "```"
   ]
  },
  {
   "cell_type": "markdown",
   "id": "c8d87f9b",
   "metadata": {
    "slideshow": {
     "slide_type": "subslide"
    }
   },
   "source": [
    "Distribution of `Feeling Rushed`."
   ]
  },
  {
   "cell_type": "code",
   "execution_count": 68,
   "id": "81255511",
   "metadata": {},
   "outputs": [
    {
     "data": {
      "text/plain": [
       "Feeling Rushed\n",
       "1     3986\n",
       "2     3888\n",
       "3     1994\n",
       "6     1802\n",
       "4     1037\n",
       "5      562\n",
       "97      49\n",
       "98       1\n",
       "Name: count, dtype: int64"
      ]
     },
     "execution_count": 68,
     "metadata": {},
     "output_type": "execute_result"
    }
   ],
   "source": [
    "urban_df['Feeling Rushed'].value_counts()"
   ]
  },
  {
   "cell_type": "markdown",
   "id": "4ea630a6",
   "metadata": {},
   "source": [
    "```\n",
    "\n",
    "      gtu_110            General time use - Feel rushed\n",
    "\n",
    "           VALUE  LABEL\n",
    "               1  Every day\n",
    "               2  A few times a week\n",
    "               3  About once a week\n",
    "               4  About once a month\n",
    "               5  Less than once a month\n",
    "               6  Never\n",
    "              96  Valid skip\n",
    "              97  Don't know\n",
    "              98  Refusal\n",
    "              99  Not stated\n",
    "\n",
    "           Data type: numeric\n",
    "           Missing-data codes: 96-99\n",
    "           Record/columns: 1/60-61\n",
    "\n",
    "```"
   ]
  },
  {
   "cell_type": "markdown",
   "id": "749393f1",
   "metadata": {
    "slideshow": {
     "slide_type": "subslide"
    }
   },
   "source": [
    "Distribution of `Urban/Rural`."
   ]
  },
  {
   "cell_type": "code",
   "execution_count": 71,
   "id": "dfb0ce4c",
   "metadata": {},
   "outputs": [
    {
     "data": {
      "text/plain": [
       "Urban/Rural\n",
       "1    13319\n",
       "Name: count, dtype: int64"
      ]
     },
     "execution_count": 71,
     "metadata": {},
     "output_type": "execute_result"
    }
   ],
   "source": [
    "urban_df['Urban/Rural'].value_counts()"
   ]
  },
  {
   "cell_type": "markdown",
   "id": "e74e4c89",
   "metadata": {
    "slideshow": {
     "slide_type": "slide"
    }
   },
   "source": [
    "Let's compute \n",
    "\n",
    "$$\\text{Proportion}_\\text{at least one kid} = \\frac{\\text{Number of respondents that feel rushed daily}}{\\text{Number  of respondents with at least one kid that never feel rushed or feel rushed daily}}$$\n",
    "\n",
    "$$\\text{Proportion}_\\text{no kids} = \\frac{\\text{Number of respondents that feel rushed daily}}{\\text{Number  of respondents with no kids that never feel rushed or feel rushed daily}}$$"
   ]
  },
  {
   "cell_type": "markdown",
   "id": "ee909c2d",
   "metadata": {
    "slideshow": {
     "slide_type": "fragment"
    }
   },
   "source": [
    "to answer \n",
    "\n",
    "**_Do urban residents with one or more children report feeling more rushed every day versus never feeling rushed than those with no children?_**"
   ]
  },
  {
   "cell_type": "markdown",
   "id": "9273f074",
   "metadata": {
    "slideshow": {
     "slide_type": "fragment"
    }
   },
   "source": [
    "Let's start with the denominator of $\\text{Proportion}_\\text{at least one kid}$:\n",
    "\n",
    "${\\text{Number  of respondents with at least one kid that never feel rushed or feel rushed daily}}$"
   ]
  },
  {
   "cell_type": "markdown",
   "id": "80086653",
   "metadata": {
    "slideshow": {
     "slide_type": "slide"
    }
   },
   "source": [
    "Define a Boolean variable `kids_norush` that is: \n",
    "\n",
    "- `True` if: \n",
    "\n",
    "  + a respondent has at least one kid (`urban_df['Kids under 14'] >= 1`) **and** \n",
    "\n",
    "  + never feels rushed (`urban_df['Feeling Rushed'] == 6`)\n",
    "\n",
    "- `False` otherwise.\n",
    "\n",
    "  "
   ]
  },
  {
   "cell_type": "code",
   "execution_count": 72,
   "id": "b2aa75c4",
   "metadata": {
    "slideshow": {
     "slide_type": "fragment"
    }
   },
   "outputs": [],
   "source": [
    "kids_norush = (urban_df['Kids under 14'] >= 1) & (urban_df['Feeling Rushed'] == 6)"
   ]
  },
  {
   "cell_type": "markdown",
   "id": "8bb0ae2d",
   "metadata": {
    "slideshow": {
     "slide_type": "fragment"
    }
   },
   "source": [
    "Define a Boolean variable `kids_rush` that is: \n",
    "\n",
    "- `True` if: \n",
    "\n",
    "  + a respondent has at least one kid (`urban_df['Kids under 14'] >= 1`) **and** \n",
    "\n",
    "  + never feels rushed (`urban_df['Feeling Rushed'] == 1`)\n",
    "\n",
    "- `False` otherwise.\n"
   ]
  },
  {
   "cell_type": "code",
   "execution_count": 73,
   "id": "9b283cd7",
   "metadata": {
    "slideshow": {
     "slide_type": "fragment"
    }
   },
   "outputs": [],
   "source": [
    "kids_rush = ((urban_df['Kids under 14'] >= 1) & (urban_df['Feeling Rushed'] == 1))"
   ]
  },
  {
   "cell_type": "markdown",
   "id": "499ded5a",
   "metadata": {
    "slideshow": {
     "slide_type": "slide"
    }
   },
   "source": [
    "Compute the total number respondents with `urban_df[Kids under 14] >= 1` that feel rushed daily or never feel rushed."
   ]
  },
  {
   "cell_type": "code",
   "execution_count": 74,
   "id": "8f07c57f",
   "metadata": {
    "slideshow": {
     "slide_type": "fragment"
    }
   },
   "outputs": [
    {
     "data": {
      "text/plain": [
       "1485"
      ]
     },
     "execution_count": 74,
     "metadata": {},
     "output_type": "execute_result"
    }
   ],
   "source": [
    "Total_kids_norush = kids_norush.sum() \n",
    "\n",
    "Total_kids_rush = kids_rush.sum()\n",
    "\n",
    "Total_kids_norush + Total_kids_rush"
   ]
  },
  {
   "cell_type": "markdown",
   "id": "54beff0b",
   "metadata": {},
   "source": [
    "Now compute the proportion that feel rushed among those with at least one kid."
   ]
  },
  {
   "cell_type": "code",
   "execution_count": 75,
   "id": "778a2b63",
   "metadata": {},
   "outputs": [
    {
     "data": {
      "text/plain": [
       "0.94006734006734"
      ]
     },
     "execution_count": 75,
     "metadata": {},
     "output_type": "execute_result"
    }
   ],
   "source": [
    "prop_kids = Total_kids_rush / (Total_kids_norush + Total_kids_rush)\n",
    "\n",
    "prop_kids"
   ]
  },
  {
   "cell_type": "markdown",
   "id": "c57be82a",
   "metadata": {
    "slideshow": {
     "slide_type": "slide"
    }
   },
   "source": [
    "Let's do the same for respondents with no kids"
   ]
  },
  {
   "cell_type": "code",
   "execution_count": 76,
   "id": "dea711e4",
   "metadata": {},
   "outputs": [
    {
     "data": {
      "text/plain": [
       "0.6019056472228678"
      ]
     },
     "execution_count": 76,
     "metadata": {},
     "output_type": "execute_result"
    }
   ],
   "source": [
    "nokids_norush = ((urban_df['Kids under 14'] == 0) & (urban_df['Feeling Rushed'] == 6))\n",
    "\n",
    "nokids_rush = ((urban_df['Kids under 14'] == 0) & (urban_df['Feeling Rushed'] == 1))\n",
    "\n",
    "Total_nokids_norush = nokids_norush.sum() \n",
    "\n",
    "Total_nokids_rush = nokids_rush.sum()\n",
    "\n",
    "prop_nokids = Total_nokids_rush/(Total_nokids_norush + Total_nokids_rush)\n",
    "\n",
    "prop_nokids"
   ]
  },
  {
   "cell_type": "markdown",
   "id": "ab0025c7",
   "metadata": {
    "slideshow": {
     "slide_type": "slide"
    }
   },
   "source": [
    "Let's multiply by 100 and round to decimal places to express as a percentage and print out an informative description of the statistic."
   ]
  },
  {
   "cell_type": "code",
   "execution_count": 77,
   "id": "9bd434e3",
   "metadata": {
    "slideshow": {
     "slide_type": "fragment"
    }
   },
   "outputs": [
    {
     "name": "stdout",
     "output_type": "stream",
     "text": [
      "94.01\n",
      "60.19\n"
     ]
    }
   ],
   "source": [
    "percent_kids = round(prop_kids * 100, 2)\n",
    "\n",
    "percent_nokids = round(prop_nokids * 100, 2)\n",
    "\n",
    "print(percent_kids)\n",
    "\n",
    "print(percent_nokids)"
   ]
  },
  {
   "cell_type": "markdown",
   "id": "da20bc98",
   "metadata": {
    "slideshow": {
     "slide_type": "fragment"
    }
   },
   "source": [
    "Let's add a more detailed description."
   ]
  },
  {
   "cell_type": "code",
   "execution_count": 78,
   "id": "da27143a",
   "metadata": {},
   "outputs": [
    {
     "name": "stdout",
     "output_type": "stream",
     "text": [
      "The percentage of respondents with kids that feel rushed is 94.01%.\n",
      "\n",
      "\n",
      "The percentage of respondents with no kids that feel rushed is 60.19%.\n",
      "\n",
      "\n",
      "33.82% more respondents with kids feel rushed compared to respondents without kids.\n"
     ]
    }
   ],
   "source": [
    "nokidstext = 'The percentage of respondents with kids that feel rushed is'\n",
    "\n",
    "print(f\"{nokidstext} {percent_kids}%.\") # print interpretation of percent with kids\n",
    "\n",
    "print('\\n') # add a blank line\n",
    "\n",
    "kidstext = 'The percentage of respondents with no kids that feel rushed is'\n",
    "\n",
    "print(f\"{kidstext} {percent_nokids}%.\") # print interpretation of percent with no kids\n",
    "\n",
    "print('\\n')  # add a blank line\n",
    "\n",
    "difftext = 'more respondents with kids feel rushed compared to respondents without kids.'\n",
    "\n",
    "print(f\"{round(percent_kids - percent_nokids, 2)}% {difftext}\")"
   ]
  },
  {
   "cell_type": "code",
   "execution_count": null,
   "id": "5b70dc5a",
   "metadata": {},
   "outputs": [],
   "source": [
    "# feel free to further experiment with the DataFrame"
   ]
  }
 ],
 "metadata": {
  "celltoolbar": "Slideshow",
  "kernelspec": {
   "display_name": "Python 3 (ipykernel)",
   "language": "python",
   "name": "python3"
  },
  "language_info": {
   "codemirror_mode": {
    "name": "ipython",
    "version": 3
   },
   "file_extension": ".py",
   "mimetype": "text/x-python",
   "name": "python",
   "nbconvert_exporter": "python",
   "pygments_lexer": "ipython3",
   "version": "3.11.6"
  }
 },
 "nbformat": 4,
 "nbformat_minor": 5
}
